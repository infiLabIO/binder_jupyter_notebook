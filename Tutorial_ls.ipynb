{
 "cells": [
  {
   "cell_type": "markdown",
   "metadata": {
    "slideshow": {
     "slide_type": "slide"
    }
   },
   "source": [
    "# ls Tutorial\n",
    "\n",
    "Everybody knows ls right?\n",
    "\n",
    "Sure, but I'm sure we all have a lot to learn.\n",
    "\n",
    "## Applicable to any Linux, but also to OSX, Cygwin, ...\n",
    "Most of the material here should apply equally to \n",
    "- Linux\n",
    "- OSX\n",
    "- Windows with some sort of bash shell (e.g. Cygwin)\n",
    "- *BSD\n",
    "\n",
    "But there may be variables, let's first see on what system this notebook is running.\n",
    "\n",
    "You don't need to understand those commands, just look at the output to see what version of Linux we are running.\n",
    "This notebook is running Debian 8 (jessie) - note this might change in the future."
   ]
  },
  {
   "cell_type": "code",
   "execution_count": 4,
   "metadata": {
    "collapsed": false,
    "slideshow": {
     "slide_type": "slide"
    }
   },
   "outputs": [
    {
     "name": "stdout",
     "output_type": "stream",
     "text": [
      "Running kernel version:\r\n",
      "\t Linux notebook-server 3.16.0-0.bpo.4-amd64 #1 SMP Debian 3.16.7-ckt11-1+deb8u2~bpo70+1 (2015-07-22) x86_64 GNU/Linux\r\n",
      "Running release:\r\n",
      "    PRETTY_NAME=\"Debian GNU/Linux 8 (jessie)\"\r\n",
      "    NAME=\"Debian GNU/Linux\"\r\n",
      "    VERSION_ID=\"8\"\r\n",
      "    VERSION=\"8 (jessie)\"\r\n",
      "    ID=debian\r\n",
      "    HOME_URL=\"http://www.debian.org/\"\r\n",
      "    SUPPORT_URL=\"http://www.debian.org/support/\"\r\n",
      "    BUG_REPORT_URL=\"https://bugs.debian.org/\"\r\n"
     ]
    }
   ],
   "source": [
    "echo -e \"Running kernel version:\\n\\t\" $(uname -a)\n",
    "\n",
    "RELEASE_INFO=$(cat /etc/*release 2>/dev/null)\n",
    "[ ! -z \"$RELEASE_INFO\" ] &&\n",
    "    echo -e \"Running release:\"; sed 's/^/    /' /etc/*release"
   ]
  },
  {
   "cell_type": "markdown",
   "metadata": {
    "slideshow": {
     "slide_type": "slide"
    }
   },
   "source": [
    "## Man pages and help information"
   ]
  },
  {
   "cell_type": "markdown",
   "metadata": {
    "slideshow": {
     "slide_type": "fragment"
    }
   },
   "source": [
    "Let's first look at the man page and also the help information.\n",
    "\n",
    "### man page"
   ]
  },
  {
   "cell_type": "markdown",
   "metadata": {
    "slideshow": {
     "slide_type": "fragment"
    }
   },
   "source": [
    "Let's not list the whole output here, but you can do by executing:\n",
    "\n",
    "```man ls```"
   ]
  },
  {
   "cell_type": "markdown",
   "metadata": {
    "slideshow": {
     "slide_type": "subslide"
    }
   },
   "source": [
    "### help information\n",
    "Most GNU/linux commands have a '--help' option to provide a brief summary of their usage"
   ]
  },
  {
   "cell_type": "code",
   "execution_count": 2,
   "metadata": {
    "collapsed": false,
    "slideshow": {
     "slide_type": "fragment"
    }
   },
   "outputs": [
    {
     "name": "stdout",
     "output_type": "stream",
     "text": [
      "Usage: ls [OPTION]... [FILE]...\r\n",
      "List information about the FILEs (the current directory by default).\r\n",
      "Sort entries alphabetically if none of -cftuvSUX nor --sort is specified.\r\n",
      "\r\n",
      "Mandatory arguments to long options are mandatory for short options too.\r\n",
      "  -a, --all                  do not ignore entries starting with .\r\n",
      "  -A, --almost-all           do not list implied . and ..\r\n",
      "      --author               with -l, print the author of each file\r\n",
      "  -b, --escape               print C-style escapes for nongraphic characters\r\n",
      "      --block-size=SIZE      scale sizes by SIZE before printing them; e.g.,\r\n",
      "                               '--block-size=M' prints sizes in units of\r\n",
      "                               1,048,576 bytes; see SIZE format below\r\n",
      "  -B, --ignore-backups       do not list implied entries ending with ~\r\n",
      "  -c                         with -lt: sort by, and show, ctime (time of last\r\n",
      "                               modification of file status information);\r\n",
      "                               with -l: show ctime and sort by name;\r\n",
      "                               otherwise: sort by ctime, newest first\r\n",
      "  -C                         list entries by columns\r\n",
      "      --color[=WHEN]         colorize the output; WHEN can be 'never', 'auto',\r\n",
      "                               or 'always' (the default); more info below\r\n",
      "  -d, --directory            list directories themselves, not their contents\r\n",
      "  -D, --dired                generate output designed for Emacs' dired mode\r\n",
      "  -f                         do not sort, enable -aU, disable -ls --color\r\n",
      "  -F, --classify             append indicator (one of */=>@|) to entries\r\n",
      "      --file-type            likewise, except do not append '*'\r\n",
      "      --format=WORD          across -x, commas -m, horizontal -x, long -l,\r\n",
      "                               single-column -1, verbose -l, vertical -C\r\n",
      "      --full-time            like -l --time-style=full-iso\r\n",
      "  -g                         like -l, but do not list owner\r\n",
      "      --group-directories-first\r\n",
      "                             group directories before files;\r\n",
      "                               can be augmented with a --sort option, but any\r\n",
      "                               use of --sort=none (-U) disables grouping\r\n",
      "  -G, --no-group             in a long listing, don't print group names\r\n",
      "  -h, --human-readable       with -l and/or -s, print human readable sizes\r\n",
      "                               (e.g., 1K 234M 2G)\r\n",
      "      --si                   likewise, but use powers of 1000 not 1024\r\n",
      "  -H, --dereference-command-line\r\n",
      "                             follow symbolic links listed on the command line\r\n",
      "      --dereference-command-line-symlink-to-dir\r\n",
      "                             follow each command line symbolic link\r\n",
      "                               that points to a directory\r\n",
      "      --hide=PATTERN         do not list implied entries matching shell PATTERN\r\n",
      "                               (overridden by -a or -A)\r\n",
      "      --indicator-style=WORD  append indicator with style WORD to entry names:\r\n",
      "                               none (default), slash (-p),\r\n",
      "                               file-type (--file-type), classify (-F)\r\n",
      "  -i, --inode                print the index number of each file\r\n",
      "  -I, --ignore=PATTERN       do not list implied entries matching shell PATTERN\r\n",
      "  -k, --kibibytes            default to 1024-byte blocks for disk usage\r\n",
      "  -l                         use a long listing format\r\n",
      "  -L, --dereference          when showing file information for a symbolic\r\n",
      "                               link, show information for the file the link\r\n",
      "                               references rather than for the link itself\r\n",
      "  -m                         fill width with a comma separated list of entries\r\n",
      "  -n, --numeric-uid-gid      like -l, but list numeric user and group IDs\r\n",
      "  -N, --literal              print raw entry names (don't treat e.g. control\r\n",
      "                               characters specially)\r\n",
      "  -o                         like -l, but do not list group information\r\n",
      "  -p, --indicator-style=slash\r\n",
      "                             append / indicator to directories\r\n",
      "  -q, --hide-control-chars   print ? instead of nongraphic characters\r\n",
      "      --show-control-chars   show nongraphic characters as-is (the default,\r\n",
      "                               unless program is 'ls' and output is a terminal)\r\n",
      "  -Q, --quote-name           enclose entry names in double quotes\r\n",
      "      --quoting-style=WORD   use quoting style WORD for entry names:\r\n",
      "                               literal, locale, shell, shell-always, c, escape\r\n",
      "  -r, --reverse              reverse order while sorting\r\n",
      "  -R, --recursive            list subdirectories recursively\r\n",
      "  -s, --size                 print the allocated size of each file, in blocks\r\n",
      "  -S                         sort by file size\r\n",
      "      --sort=WORD            sort by WORD instead of name: none (-U), size (-S),\r\n",
      "                               time (-t), version (-v), extension (-X)\r\n",
      "      --time=WORD            with -l, show time as WORD instead of default\r\n",
      "                               modification time: atime or access or use (-u)\r\n",
      "                               ctime or status (-c); also use specified time\r\n",
      "                               as sort key if --sort=time\r\n",
      "      --time-style=STYLE     with -l, show times using style STYLE:\r\n",
      "                               full-iso, long-iso, iso, locale, or +FORMAT;\r\n",
      "                               FORMAT is interpreted like in 'date'; if FORMAT\r\n",
      "                               is FORMAT1<newline>FORMAT2, then FORMAT1 applies\r\n",
      "                               to non-recent files and FORMAT2 to recent files;\r\n",
      "                               if STYLE is prefixed with 'posix-', STYLE\r\n",
      "                               takes effect only outside the POSIX locale\r\n",
      "  -t                         sort by modification time, newest first\r\n",
      "  -T, --tabsize=COLS         assume tab stops at each COLS instead of 8\r\n",
      "  -u                         with -lt: sort by, and show, access time;\r\n",
      "                               with -l: show access time and sort by name;\r\n",
      "                               otherwise: sort by access time\r\n",
      "  -U                         do not sort; list entries in directory order\r\n",
      "  -v                         natural sort of (version) numbers within text\r\n",
      "  -w, --width=COLS           assume screen width instead of current value\r\n",
      "  -x                         list entries by lines instead of by columns\r\n",
      "  -X                         sort alphabetically by entry extension\r\n",
      "  -Z, --context              print any security context of each file\r\n",
      "  -1                         list one file per line\r\n",
      "      --help     display this help and exit\r\n",
      "      --version  output version information and exit\r\n",
      "\r\n",
      "The SIZE argument is an integer and optional unit (example: 10K is 10*1024).\r\n",
      "Units are K,M,G,T,P,E,Z,Y (powers of 1024) or KB,MB,... (powers of 1000).\r\n",
      "\r\n",
      "Using color to distinguish file types is disabled both by default and\r\n",
      "with --color=never.  With --color=auto, ls emits color codes only when\r\n",
      "standard output is connected to a terminal.  The LS_COLORS environment\r\n",
      "variable can change the settings.  Use the dircolors command to set it.\r\n",
      "\r\n",
      "Exit status:\r\n",
      " 0  if OK,\r\n",
      " 1  if minor problems (e.g., cannot access subdirectory),\r\n",
      " 2  if serious trouble (e.g., cannot access command-line argument).\r\n",
      "\r\n",
      "GNU coreutils online help: <http://www.gnu.org/software/coreutils/>\r\n",
      "Report ls translation bugs to <http://translationproject.org/team/>\r\n",
      "Full documentation at: <http://www.gnu.org/software/coreutils/ls>\r\n",
      "or available locally via: info '(coreutils) ls invocation'\r\n"
     ]
    }
   ],
   "source": [
    "ls --help"
   ]
  },
  {
   "cell_type": "markdown",
   "metadata": {
    "slideshow": {
     "slide_type": "slide"
    }
   },
   "source": [
    "## Introduction to ls\n",
    "Let's first look at ls run without any arguments.\n",
    "It produces a list of files in the current directory across several columns"
   ]
  },
  {
   "cell_type": "code",
   "execution_count": 3,
   "metadata": {
    "collapsed": false,
    "slideshow": {
     "slide_type": "subslide"
    }
   },
   "outputs": [
    {
     "name": "stdout",
     "output_type": "stream",
     "text": [
      "Dockerfile\t\t   README.md\t\t       Tutorial_ls.ipynb\r\n",
      "Example_bash_kernel.ipynb  Tutorial_Bash_Arrays.ipynb  requirements.txt\r\n"
     ]
    }
   ],
   "source": [
    "ls"
   ]
  },
  {
   "cell_type": "markdown",
   "metadata": {
    "slideshow": {
     "slide_type": "subslide"
    }
   },
   "source": [
    "If we want a list with 1 file per line, we can provide the '-1' option.\n",
    "\n",
    "This can be useful to make the output simpler to read when there are few files, it can also be useful when we want to use this command to provide input to another command via a pipe"
   ]
  },
  {
   "cell_type": "code",
   "execution_count": 2,
   "metadata": {
    "collapsed": false,
    "slideshow": {
     "slide_type": "fragment"
    }
   },
   "outputs": [
    {
     "name": "stdout",
     "output_type": "stream",
     "text": [
      "Dockerfile\r\n",
      "Example_bash_kernel.ipynb\r\n",
      "README.md\r\n",
      "Tutorial_Bash_Arrays.ipynb\r\n",
      "Tutorial_ls.ipynb\r\n",
      "requirements.txt\r\n"
     ]
    }
   ],
   "source": [
    "ls -1"
   ]
  },
  {
   "cell_type": "markdown",
   "metadata": {
    "slideshow": {
     "slide_type": "subslide"
    }
   },
   "source": [
    "If we wanted to list just files with .ipynb ending (IPython or Jupyter notebooks)"
   ]
  },
  {
   "cell_type": "code",
   "execution_count": 3,
   "metadata": {
    "collapsed": false,
    "slideshow": {
     "slide_type": "fragment"
    }
   },
   "outputs": [
    {
     "name": "stdout",
     "output_type": "stream",
     "text": [
      "Example_bash_kernel.ipynb\r\n",
      "Tutorial_Bash_Arrays.ipynb\r\n",
      "Tutorial_ls.ipynb\r\n"
     ]
    }
   ],
   "source": [
    "ls -1 | grep .ipynb"
   ]
  },
  {
   "cell_type": "markdown",
   "metadata": {
    "slideshow": {
     "slide_type": "slide"
    }
   },
   "source": [
    "#### Showing file details using the -l *long* option\n",
    "\n",
    "Below we can see how *-l* option shows us information about the files such as:\n",
    "- permissions ('drwxr-xt-x ) tells us that this is a directory 'd', that the file owner had read/write/execution permissions, that the users belonging to the group have just read/execute permissions (you need directory execute permissions to be able to look inside a directory), and anyone elase also has read/execute permissions.\n",
    "- number of i-nodes used ofr this file or directory entry\n",
    "- user and group ownership of the file\n",
    "- file size in bytes\n",
    "- last modified date/time\n",
    "\n",
    "In the example below we see that the requirements.txt file has only 12 bytes (this may change), that it is owned by user main, a member of group main and that owner main has read/write permissions enabled"
   ]
  },
  {
   "cell_type": "code",
   "execution_count": 9,
   "metadata": {
    "collapsed": false,
    "slideshow": {
     "slide_type": "subslide"
    }
   },
   "outputs": [
    {
     "name": "stdout",
     "output_type": "stream",
     "text": [
      "total 72\r\n",
      "-rw-rw-r-- 1 main main  1289 May 16 14:21 Dockerfile\r\n",
      "-rwxrwxr-x 1 main main 25648 May 16 14:21 Example_bash_kernel.ipynb\r\n",
      "-rw-rw-r-- 1 main main   221 May 16 14:21 README.md\r\n",
      "-rwxrwxr-x 1 main main  1152 May 16 14:21 Tutorial_Bash_Arrays.ipynb\r\n",
      "-rwxrwxr-x 1 main main 27211 May 16 15:04 Tutorial_ls.ipynb\r\n",
      "-rw-rw-r-- 1 main main    12 May 16 14:21 requirements.txt\r\n"
     ]
    }
   ],
   "source": [
    "ls -l"
   ]
  },
  {
   "cell_type": "markdown",
   "metadata": {
    "slideshow": {
     "slide_type": "subslide"
    }
   },
   "source": [
    "We can also specify for which files we wish to list information:"
   ]
  },
  {
   "cell_type": "code",
   "execution_count": 8,
   "metadata": {
    "collapsed": false,
    "slideshow": {
     "slide_type": "fragment"
    }
   },
   "outputs": [
    {
     "name": "stdout",
     "output_type": "stream",
     "text": [
      "-rw-rw-r-- 1 main main 1289 May 16 14:21 Dockerfile\r\n"
     ]
    }
   ],
   "source": [
    "ls -l Dockerfile"
   ]
  },
  {
   "cell_type": "markdown",
   "metadata": {
    "slideshow": {
     "slide_type": "subslide"
    }
   },
   "source": [
    "#### Showing all files, including *dotfiles* with the *-a* option\n",
    "\n",
    "Note how we combine the -a and -l option into -al so we see all files in a long format"
   ]
  },
  {
   "cell_type": "code",
   "execution_count": 4,
   "metadata": {
    "collapsed": false,
    "scrolled": true,
    "slideshow": {
     "slide_type": "fragment"
    }
   },
   "outputs": [
    {
     "name": "stdout",
     "output_type": "stream",
     "text": [
      "total 76\r\n",
      "drwxr-xr-x  5 main main  4096 May 16 14:40 .\r\n",
      "drwxr-xr-x 27 main main  4096 May 16 14:26 ..\r\n",
      "drwxrwxr-x 14 main main  4096 May 16 14:21 .git\r\n",
      "drwxr-xr-x  2 main main  4096 May 16 14:28 .ipynb_checkpoints\r\n",
      "-rw-rw-r--  1 main main  1289 May 16 14:21 Dockerfile\r\n",
      "-rwxrwxr-x  1 main main 25648 May 16 14:21 Example_bash_kernel.ipynb\r\n",
      "-rw-rw-r--  1 main main   221 May 16 14:21 README.md\r\n",
      "-rwxrwxr-x  1 main main  1152 May 16 14:21 Tutorial_Bash_Arrays.ipynb\r\n",
      "-rwxrwxr-x  1 main main 15240 May 16 14:40 Tutorial_ls.ipynb\r\n",
      "-rw-rw-r--  1 main main    12 May 16 14:21 requirements.txt\r\n"
     ]
    }
   ],
   "source": [
    "ls -al"
   ]
  },
  {
   "cell_type": "markdown",
   "metadata": {
    "slideshow": {
     "slide_type": "subslide"
    }
   },
   "source": [
    "Note that in the above listing we also see *.* and *..*, representing the current and parent directories.\n",
    "\n",
    "To list *all* files except these, use the *-A* option"
   ]
  },
  {
   "cell_type": "code",
   "execution_count": 6,
   "metadata": {
    "collapsed": false,
    "slideshow": {
     "slide_type": "fragment"
    }
   },
   "outputs": [
    {
     "name": "stdout",
     "output_type": "stream",
     "text": [
      "total 68\r\n",
      "drwxrwxr-x 14 main main  4096 May 16 14:21 .git\r\n",
      "drwxr-xr-x  2 main main  4096 May 16 14:28 .ipynb_checkpoints\r\n",
      "-rw-rw-r--  1 main main  1289 May 16 14:21 Dockerfile\r\n",
      "-rwxrwxr-x  1 main main 25648 May 16 14:21 Example_bash_kernel.ipynb\r\n",
      "-rw-rw-r--  1 main main   221 May 16 14:21 README.md\r\n",
      "-rwxrwxr-x  1 main main  1152 May 16 14:21 Tutorial_Bash_Arrays.ipynb\r\n",
      "-rwxrwxr-x  1 main main 15247 May 16 14:56 Tutorial_ls.ipynb\r\n",
      "-rw-rw-r--  1 main main    12 May 16 14:21 requirements.txt\r\n"
     ]
    }
   ],
   "source": [
    "ls -Al"
   ]
  },
  {
   "cell_type": "markdown",
   "metadata": {
    "slideshow": {
     "slide_type": "slide"
    }
   },
   "source": [
    "#### Directories\n",
    "\n",
    "We can use the -F option to annotate files with '*' if executeable, '/' if a directory\n",
    "Let's create a folder *tmpdir* and see"
   ]
  },
  {
   "cell_type": "code",
   "execution_count": 23,
   "metadata": {
    "collapsed": false,
    "slideshow": {
     "slide_type": "fragment"
    }
   },
   "outputs": [
    {
     "name": "stdout",
     "output_type": "stream",
     "text": [
      "total 80\r\n",
      "-rw-rw-r-- 1 main main  1289 May 16 14:21 Dockerfile\r\n",
      "-rwxrwxr-x 1 main main 25648 May 16 14:21 Example_bash_kernel.ipynb*\r\n",
      "-rw-rw-r-- 1 main main   221 May 16 14:21 README.md\r\n",
      "-rwxrwxr-x 1 main main  1152 May 16 14:21 Tutorial_Bash_Arrays.ipynb*\r\n",
      "-rwxrwxr-x 1 main main 28852 May 16 15:10 Tutorial_ls.ipynb*\r\n",
      "-rw-rw-r-- 1 main main    12 May 16 14:21 requirements.txt\r\n",
      "drwxr-xr-x 2 main main  4096 May 16 15:10 tmpdir/\r\n"
     ]
    }
   ],
   "source": [
    "mkdir -p tmpdir\n",
    "ls -F -l"
   ]
  },
  {
   "cell_type": "markdown",
   "metadata": {
    "slideshow": {
     "slide_type": "subslide"
    }
   },
   "source": [
    "We can list the contents of a directory (in this case tmpdir is empty and has just the *.* and *..* entries)"
   ]
  },
  {
   "cell_type": "code",
   "execution_count": 26,
   "metadata": {
    "collapsed": false,
    "slideshow": {
     "slide_type": "fragment"
    }
   },
   "outputs": [
    {
     "name": "stdout",
     "output_type": "stream",
     "text": [
      "total 8\r\n",
      "drwxr-xr-x 2 main main 4096 May 16 15:10 .\r\n",
      "drwxr-xr-x 6 main main 4096 May 16 15:12 ..\r\n"
     ]
    }
   ],
   "source": [
    "ls -al tmpdir"
   ]
  },
  {
   "cell_type": "markdown",
   "metadata": {
    "slideshow": {
     "slide_type": "fragment"
    }
   },
   "source": [
    "Or we can specify the *-d* option if we want to see the properties of the directory itself"
   ]
  },
  {
   "cell_type": "code",
   "execution_count": 27,
   "metadata": {
    "collapsed": false,
    "slideshow": {
     "slide_type": "fragment"
    }
   },
   "outputs": [
    {
     "name": "stdout",
     "output_type": "stream",
     "text": [
      "drwxr-xr-x 2 main main 4096 May 16 15:10 tmpdir\r\n"
     ]
    }
   ],
   "source": [
    "ls -ald tmpdir"
   ]
  },
  {
   "cell_type": "markdown",
   "metadata": {
    "slideshow": {
     "slide_type": "slide"
    }
   },
   "source": [
    "## Producing human readable output (file sizes)\n",
    "\n",
    "Some linux utilities (ls, du, sort) produce human-readable output for file sizes if the -h option is provided"
   ]
  },
  {
   "cell_type": "code",
   "execution_count": 30,
   "metadata": {
    "collapsed": false,
    "slideshow": {
     "slide_type": "fragment"
    }
   },
   "outputs": [
    {
     "name": "stdout",
     "output_type": "stream",
     "text": [
      "total 80K\r\n",
      "-rw-rw-r-- 1 main main 1.3K May 16 14:21 Dockerfile\r\n",
      "-rwxrwxr-x 1 main main  26K May 16 14:21 Example_bash_kernel.ipynb\r\n",
      "-rw-rw-r-- 1 main main  221 May 16 14:21 README.md\r\n",
      "-rwxrwxr-x 1 main main 1.2K May 16 14:21 Tutorial_Bash_Arrays.ipynb\r\n",
      "-rwxrwxr-x 1 main main  31K May 16 15:16 Tutorial_ls.ipynb\r\n",
      "-rw-rw-r-- 1 main main   12 May 16 14:21 requirements.txt\r\n",
      "drwxr-xr-x 2 main main 4.0K May 16 15:10 tmpdir\r\n"
     ]
    }
   ],
   "source": [
    "ls -hl"
   ]
  },
  {
   "cell_type": "markdown",
   "metadata": {
    "slideshow": {
     "slide_type": "subslide"
    }
   },
   "source": [
    "Note how file sizes are now reported in kbytes rather than in bytes\n",
    "\n",
    "We can produce a listing of just one file per line, preceded by the file size in human readable format using *'ls -sh1*'"
   ]
  },
  {
   "cell_type": "code",
   "execution_count": 34,
   "metadata": {
    "collapsed": false,
    "slideshow": {
     "slide_type": "fragment"
    }
   },
   "outputs": [
    {
     "name": "stdout",
     "output_type": "stream",
     "text": [
      "total 80K\r\n",
      "4.0K Dockerfile\r\n",
      " 28K Example_bash_kernel.ipynb\r\n",
      "4.0K README.md\r\n",
      "4.0K Tutorial_Bash_Arrays.ipynb\r\n",
      " 32K Tutorial_ls.ipynb\r\n",
      "4.0K requirements.txt\r\n",
      "4.0K tmpdir\r\n"
     ]
    }
   ],
   "source": [
    "ls -sh1"
   ]
  },
  {
   "cell_type": "markdown",
   "metadata": {
    "slideshow": {
     "slide_type": "subslide"
    }
   },
   "source": [
    "#### Sorting files\n",
    "\n",
    "Providing the sort utility also handles the '*-h*' option, we can then use this to sort files in order of their size"
   ]
  },
  {
   "cell_type": "code",
   "execution_count": 37,
   "metadata": {
    "collapsed": false,
    "slideshow": {
     "slide_type": "fragment"
    }
   },
   "outputs": [
    {
     "name": "stdout",
     "output_type": "stream",
     "text": [
      "total 80K\r\n",
      "4.0K Dockerfile\r\n",
      "4.0K README.md\r\n",
      "4.0K Tutorial_Bash_Arrays.ipynb\r\n",
      "4.0K requirements.txt\r\n",
      "4.0K tmpdir\r\n",
      " 28K Example_bash_kernel.ipynb\r\n",
      " 32K Tutorial_ls.ipynb\r\n"
     ]
    }
   ],
   "source": [
    "ls -sh1 | sort -h"
   ]
  },
  {
   "cell_type": "markdown",
   "metadata": {
    "slideshow": {
     "slide_type": "subslide"
    }
   },
   "source": [
    "But we can also sort files directly using '*ls*' options\n",
    "\n",
    "For all sort options we can use '*-r*' option to sort in reverse order.\n",
    "\n",
    "By default we sort on the filename, but we can also specify:\n",
    "- -S: to sort on filesize\n",
    "- -c: to sort on file creation time\n",
    "- -t: to sort on file modification time\n",
    "- -f: to not sort at all\n",
    "\n"
   ]
  },
  {
   "cell_type": "markdown",
   "metadata": {
    "slideshow": {
     "slide_type": "subslide"
    }
   },
   "source": [
    "#### Sorting files based on filesize\n",
    "... but we can't actually see the filesize here ..."
   ]
  },
  {
   "cell_type": "code",
   "execution_count": 43,
   "metadata": {
    "collapsed": false,
    "slideshow": {
     "slide_type": "fragment"
    }
   },
   "outputs": [
    {
     "name": "stdout",
     "output_type": "stream",
     "text": [
      "Tutorial_ls.ipynb\t   Dockerfile\t\t       requirements.txt\r\n",
      "Example_bash_kernel.ipynb  Tutorial_Bash_Arrays.ipynb\r\n",
      "tmpdir\t\t\t   README.md\r\n"
     ]
    }
   ],
   "source": [
    "ls -S"
   ]
  },
  {
   "cell_type": "markdown",
   "metadata": {
    "slideshow": {
     "slide_type": "subslide"
    }
   },
   "source": [
    "but with -l option we can see the file size:"
   ]
  },
  {
   "cell_type": "code",
   "execution_count": 40,
   "metadata": {
    "collapsed": false,
    "slideshow": {
     "slide_type": "fragment"
    }
   },
   "outputs": [
    {
     "name": "stdout",
     "output_type": "stream",
     "text": [
      "total 84\r\n",
      "-rwxrwxr-x 1 main main 33822 May 16 15:23 Tutorial_ls.ipynb\r\n",
      "-rwxrwxr-x 1 main main 25648 May 16 14:21 Example_bash_kernel.ipynb\r\n",
      "drwxr-xr-x 2 main main  4096 May 16 15:10 tmpdir\r\n",
      "-rw-rw-r-- 1 main main  1289 May 16 14:21 Dockerfile\r\n",
      "-rwxrwxr-x 1 main main  1152 May 16 14:21 Tutorial_Bash_Arrays.ipynb\r\n",
      "-rw-rw-r-- 1 main main   221 May 16 14:21 README.md\r\n",
      "-rw-rw-r-- 1 main main    12 May 16 14:21 requirements.txt\r\n"
     ]
    }
   ],
   "source": [
    "ls -Sl"
   ]
  },
  {
   "cell_type": "markdown",
   "metadata": {
    "slideshow": {
     "slide_type": "subslide"
    }
   },
   "source": [
    "With the '*-r*' option we can reverse the sort"
   ]
  },
  {
   "cell_type": "code",
   "execution_count": 45,
   "metadata": {
    "collapsed": false,
    "slideshow": {
     "slide_type": "fragment"
    }
   },
   "outputs": [
    {
     "name": "stdout",
     "output_type": "stream",
     "text": [
      "total 84\r\n",
      "-rw-rw-r-- 1 main main    12 May 16 14:21 requirements.txt\r\n",
      "-rw-rw-r-- 1 main main   221 May 16 14:21 README.md\r\n",
      "-rwxrwxr-x 1 main main  1152 May 16 14:21 Tutorial_Bash_Arrays.ipynb\r\n",
      "-rw-rw-r-- 1 main main  1289 May 16 14:21 Dockerfile\r\n",
      "drwxr-xr-x 2 main main  4096 May 16 15:10 tmpdir\r\n",
      "-rwxrwxr-x 1 main main 25648 May 16 14:21 Example_bash_kernel.ipynb\r\n",
      "-rwxrwxr-x 1 main main 36727 May 16 15:24 Tutorial_ls.ipynb\r\n"
     ]
    }
   ],
   "source": [
    "ls -Slr"
   ]
  },
  {
   "cell_type": "markdown",
   "metadata": {
    "slideshow": {
     "slide_type": "subslide"
    }
   },
   "source": [
    "#### Sorting based on file creation time"
   ]
  },
  {
   "cell_type": "code",
   "execution_count": 54,
   "metadata": {
    "collapsed": false,
    "slideshow": {
     "slide_type": "fragment"
    }
   },
   "outputs": [
    {
     "name": "stdout",
     "output_type": "stream",
     "text": [
      "total 88\r\n",
      "-rw-rw-r-- 1 main main  1289 May 16 14:22 Dockerfile\r\n",
      "-rwxrwxr-x 1 main main 25648 May 16 14:22 Example_bash_kernel.ipynb\r\n",
      "-rw-rw-r-- 1 main main   221 May 16 14:22 README.md\r\n",
      "-rwxrwxr-x 1 main main  1152 May 16 14:22 Tutorial_Bash_Arrays.ipynb\r\n",
      "-rwxrwxr-x 1 main main 38795 May 16 15:30 Tutorial_ls.ipynb\r\n",
      "-rw-rw-r-- 1 main main    12 May 16 14:22 requirements.txt\r\n",
      "drwxr-xr-x 3 main main  4096 May 16 15:30 tmpdir\r\n"
     ]
    }
   ],
   "source": [
    "ls -cl"
   ]
  },
  {
   "cell_type": "markdown",
   "metadata": {
    "slideshow": {
     "slide_type": "subslide"
    }
   },
   "source": [
    "#### Sorting alphabteically based on file extension, e.g. *.md*, *.ipynb*, ..."
   ]
  },
  {
   "cell_type": "code",
   "execution_count": 56,
   "metadata": {
    "collapsed": false,
    "slideshow": {
     "slide_type": "fragment"
    }
   },
   "outputs": [
    {
     "name": "stdout",
     "output_type": "stream",
     "text": [
      "total 88\r\n",
      "-rw-rw-r-- 1 main main  1289 May 16 14:21 Dockerfile\r\n",
      "drwxr-xr-x 3 main main  4096 May 16 15:30 tmpdir\r\n",
      "-rwxrwxr-x 1 main main 25648 May 16 14:21 Example_bash_kernel.ipynb\r\n",
      "-rwxrwxr-x 1 main main  1152 May 16 14:21 Tutorial_Bash_Arrays.ipynb\r\n",
      "-rwxrwxr-x 1 main main 40291 May 16 15:32 Tutorial_ls.ipynb\r\n",
      "-rw-rw-r-- 1 main main   221 May 16 14:21 README.md\r\n",
      "-rw-rw-r-- 1 main main    12 May 16 14:21 requirements.txt\r\n"
     ]
    }
   ],
   "source": [
    "ls -Xl"
   ]
  },
  {
   "cell_type": "markdown",
   "metadata": {
    "slideshow": {
     "slide_type": "subslide"
    }
   },
   "source": [
    "#### Without any sorting\n",
    "In this case we display files in the order in which they are actually listed in the internal directory entry.\n",
    "\n",
    "Note: This is the same as -aU option"
   ]
  },
  {
   "cell_type": "code",
   "execution_count": 48,
   "metadata": {
    "collapsed": false,
    "slideshow": {
     "slide_type": "fragment"
    }
   },
   "outputs": [
    {
     "name": "stdout",
     "output_type": "stream",
     "text": [
      "..\r\n",
      "tmpdir\r\n",
      ".ipynb_checkpoints\r\n",
      ".\r\n",
      "Tutorial_ls.ipynb\r\n",
      "Example_bash_kernel.ipynb\r\n",
      "README.md\r\n",
      "Dockerfile\r\n",
      ".git\r\n",
      "Tutorial_Bash_Arrays.ipynb\r\n",
      "requirements.txt\r\n"
     ]
    }
   ],
   "source": [
    "ls -f1"
   ]
  },
  {
   "cell_type": "markdown",
   "metadata": {
    "slideshow": {
     "slide_type": "slide"
    }
   },
   "source": [
    "## Listing files/directories recursively"
   ]
  },
  {
   "cell_type": "markdown",
   "metadata": {
    "slideshow": {
     "slide_type": "fragment"
    }
   },
   "source": [
    "To make this example a little more interesting we will create\n",
    "- one more subdirectory of tmpdir\n",
    "- create two files there using the touch command"
   ]
  },
  {
   "cell_type": "code",
   "execution_count": 51,
   "metadata": {
    "collapsed": false,
    "slideshow": {
     "slide_type": "fragment"
    }
   },
   "outputs": [
    {
     "name": "stdout",
     "output_type": "stream",
     "text": []
    }
   ],
   "source": [
    "mkdir tmpdir/newdir\n",
    "touch tmpdir/newdir/A\n",
    "touch tmpdir/newdir/B"
   ]
  },
  {
   "cell_type": "markdown",
   "metadata": {
    "slideshow": {
     "slide_type": "subslide"
    }
   },
   "source": [
    "Now we see that using the -R option we list first the local files and directories, and then descend recursively into directories"
   ]
  },
  {
   "cell_type": "code",
   "execution_count": 53,
   "metadata": {
    "collapsed": false,
    "slideshow": {
     "slide_type": "fragment"
    }
   },
   "outputs": [
    {
     "name": "stdout",
     "output_type": "stream",
     "text": [
      ".:\r\n",
      "total 88\r\n",
      "-rw-rw-r-- 1 main main  1289 May 16 14:21 Dockerfile\r\n",
      "-rwxrwxr-x 1 main main 25648 May 16 14:21 Example_bash_kernel.ipynb\r\n",
      "-rw-rw-r-- 1 main main   221 May 16 14:21 README.md\r\n",
      "-rwxrwxr-x 1 main main  1152 May 16 14:21 Tutorial_Bash_Arrays.ipynb\r\n",
      "-rwxrwxr-x 1 main main 38795 May 16 15:30 Tutorial_ls.ipynb\r\n",
      "-rw-rw-r-- 1 main main    12 May 16 14:21 requirements.txt\r\n",
      "drwxr-xr-x 3 main main  4096 May 16 15:30 tmpdir\r\n",
      "\r\n",
      "./tmpdir:\r\n",
      "total 4\r\n",
      "drwxr-xr-x 2 main main 4096 May 16 15:30 newdir\r\n",
      "\r\n",
      "./tmpdir/newdir:\r\n",
      "total 0\r\n",
      "-rw-r--r-- 1 main main 0 May 16 15:30 A\r\n",
      "-rw-r--r-- 1 main main 0 May 16 15:30 B\r\n"
     ]
    }
   ],
   "source": [
    "ls -Rl"
   ]
  },
  {
   "cell_type": "markdown",
   "metadata": {
    "slideshow": {
     "slide_type": "slide"
    }
   },
   "source": [
    "## Listing file security information\n",
    "\n",
    "Some filesystems include extra file security information, e.g. where SELinux is used.  This information can be seen using the '*-Z*' option"
   ]
  },
  {
   "cell_type": "code",
   "execution_count": 58,
   "metadata": {
    "collapsed": false,
    "slideshow": {
     "slide_type": "fragment"
    }
   },
   "outputs": [
    {
     "name": "stdout",
     "output_type": "stream",
     "text": [
      "total 88\r\n",
      "-rw-rw-r-- 1 main main ?  1289 May 16 14:21 Dockerfile\r\n",
      "-rwxrwxr-x 1 main main ? 25648 May 16 14:21 Example_bash_kernel.ipynb\r\n",
      "-rw-rw-r-- 1 main main ?   221 May 16 14:21 README.md\r\n",
      "-rwxrwxr-x 1 main main ?  1152 May 16 14:21 Tutorial_Bash_Arrays.ipynb\r\n",
      "-rwxrwxr-x 1 main main ? 40291 May 16 15:32 Tutorial_ls.ipynb\r\n",
      "-rw-rw-r-- 1 main main ?    12 May 16 14:21 requirements.txt\r\n",
      "drwxr-xr-x 3 main main ?  4096 May 16 15:30 tmpdir\r\n"
     ]
    }
   ],
   "source": [
    "ls -Zl"
   ]
  },
  {
   "cell_type": "markdown",
   "metadata": {
    "collapsed": true,
    "slideshow": {
     "slide_type": "slide"
    }
   },
   "source": [
    "# To finish\n",
    "\n",
    "We've seen that there are many option to the humble ls command, hopefully there was something new to you.\n",
    "\n",
    "You can use this notebook to investigate further on your own.\n",
    "\n",
    "Look first at the man page and the help information and experiment with options there."
   ]
  },
  {
   "cell_type": "code",
   "execution_count": null,
   "metadata": {
    "collapsed": true
   },
   "outputs": [],
   "source": []
  }
 ],
 "metadata": {
  "celltoolbar": "Slideshow",
  "kernelspec": {
   "display_name": "Bash",
   "language": "bash",
   "name": "bash"
  },
  "language_info": {
   "codemirror_mode": "shell",
   "file_extension": ".sh",
   "mimetype": "text/x-sh",
   "name": "bash"
  }
 },
 "nbformat": 4,
 "nbformat_minor": 0
}

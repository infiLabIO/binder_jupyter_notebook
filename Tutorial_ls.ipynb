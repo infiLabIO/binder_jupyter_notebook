{
 "cells": [
  {
   "cell_type": "markdown",
   "metadata": {},
   "source": [
    "# ls Tutorial\n",
    "\n",
    "Everybody knows ls right?\n",
    "\n",
    "Sure, but I'm sure we all have a lot to learn.\n",
    "\n",
    "Most of the material here should apply equally to \n",
    "- Linux\n",
    "- OSX\n",
    "- Windows with some sort of bash shell (e.g. Cygwin)\n",
    "- *BSD\n",
    "\n",
    "But there may be variables, let's first see on what system this notebook is running.\n",
    "\n",
    "You don't need to understand those commands, just look at the output to see what version of Linux we are running.\n",
    "This notebook is running Debian 8 (jessie) - note this might change in the future."
   ]
  },
  {
   "cell_type": "code",
   "execution_count": 10,
   "metadata": {
    "collapsed": false
   },
   "outputs": [
    {
     "name": "stdout",
     "output_type": "stream",
     "text": [
      "Running kernel version:\r\n",
      "\t Linux notebook-server 3.16.0-0.bpo.4-amd64 #1 SMP Debian 3.16.7-ckt11-1+deb8u2~bpo70+1 (2015-07-22) x86_64 GNU/Linux\r\n",
      "Running release:\r\n",
      "    PRETTY_NAME=\"Debian GNU/Linux 8 (jessie)\"\r\n",
      "    NAME=\"Debian GNU/Linux\"\r\n",
      "    VERSION_ID=\"8\"\r\n",
      "    VERSION=\"8 (jessie)\"\r\n",
      "    ID=debian\r\n",
      "    HOME_URL=\"http://www.debian.org/\"\r\n",
      "    SUPPORT_URL=\"http://www.debian.org/support/\"\r\n",
      "    BUG_REPORT_URL=\"https://bugs.debian.org/\"\r\n"
     ]
    }
   ],
   "source": [
    "echo -e \"Running kernel version:\\n\\t\" $(uname -a)\n",
    "\n",
    "RELEASE_INFO=$(cat /etc/*release 2>/dev/null)\n",
    "[ ! -z \"$RELEASE_INFO\" ] &&\n",
    "    echo -e \"Running release:\"; sed 's/^/    /' /etc/*release"
   ]
  },
  {
   "cell_type": "markdown",
   "metadata": {},
   "source": [
    "Let's first look at the man page and also the help information.\n",
    "\n",
    "#### man page"
   ]
  },
  {
   "cell_type": "markdown",
   "metadata": {},
   "source": [
    "Let's not list the whole output here, but you can do my executing:\n",
    "\n",
    "```man ls```"
   ]
  },
  {
   "cell_type": "markdown",
   "metadata": {},
   "source": [
    "#### help information\n",
    "Most GNU/linux commands have a '--help' option to provide a brief summary of their usage"
   ]
  },
  {
   "cell_type": "code",
   "execution_count": 16,
   "metadata": {
    "collapsed": false
   },
   "outputs": [
    {
     "name": "stdout",
     "output_type": "stream",
     "text": [
      "Usage: ls [OPTION]... [FILE]...\r\n",
      "List information about the FILEs (the current directory by default).\r\n",
      "Sort entries alphabetically if none of -cftuvSUX nor --sort is specified.\r\n",
      "\r\n",
      "Mandatory arguments to long options are mandatory for short options too.\r\n",
      "  -a, --all                  do not ignore entries starting with .\r\n",
      "  -A, --almost-all           do not list implied . and ..\r\n",
      "      --author               with -l, print the author of each file\r\n",
      "  -b, --escape               print C-style escapes for nongraphic characters\r\n",
      "      --block-size=SIZE      scale sizes by SIZE before printing them; e.g.,\r\n",
      "                               '--block-size=M' prints sizes in units of\r\n",
      "                               1,048,576 bytes; see SIZE format below\r\n",
      "  -B, --ignore-backups       do not list implied entries ending with ~\r\n",
      "  -c                         with -lt: sort by, and show, ctime (time of last\r\n",
      "                               modification of file status information);\r\n",
      "                               with -l: show ctime and sort by name;\r\n",
      "                               otherwise: sort by ctime, newest first\r\n",
      "  -C                         list entries by columns\r\n",
      "      --color[=WHEN]         colorize the output; WHEN can be 'never', 'auto',\r\n",
      "                               or 'always' (the default); more info below\r\n",
      "  -d, --directory            list directories themselves, not their contents\r\n",
      "  -D, --dired                generate output designed for Emacs' dired mode\r\n",
      "  -f                         do not sort, enable -aU, disable -ls --color\r\n",
      "  -F, --classify             append indicator (one of */=>@|) to entries\r\n",
      "      --file-type            likewise, except do not append '*'\r\n",
      "      --format=WORD          across -x, commas -m, horizontal -x, long -l,\r\n",
      "                               single-column -1, verbose -l, vertical -C\r\n",
      "      --full-time            like -l --time-style=full-iso\r\n",
      "  -g                         like -l, but do not list owner\r\n",
      "      --group-directories-first\r\n",
      "                             group directories before files;\r\n",
      "                               can be augmented with a --sort option, but any\r\n",
      "                               use of --sort=none (-U) disables grouping\r\n",
      "  -G, --no-group             in a long listing, don't print group names\r\n",
      "  -h, --human-readable       with -l and/or -s, print human readable sizes\r\n",
      "                               (e.g., 1K 234M 2G)\r\n",
      "      --si                   likewise, but use powers of 1000 not 1024\r\n",
      "  -H, --dereference-command-line\r\n",
      "                             follow symbolic links listed on the command line\r\n",
      "      --dereference-command-line-symlink-to-dir\r\n",
      "                             follow each command line symbolic link\r\n",
      "                               that points to a directory\r\n",
      "      --hide=PATTERN         do not list implied entries matching shell PATTERN\r\n",
      "                               (overridden by -a or -A)\r\n",
      "      --indicator-style=WORD  append indicator with style WORD to entry names:\r\n",
      "                               none (default), slash (-p),\r\n",
      "                               file-type (--file-type), classify (-F)\r\n",
      "  -i, --inode                print the index number of each file\r\n",
      "  -I, --ignore=PATTERN       do not list implied entries matching shell PATTERN\r\n",
      "  -k, --kibibytes            default to 1024-byte blocks for disk usage\r\n",
      "  -l                         use a long listing format\r\n",
      "  -L, --dereference          when showing file information for a symbolic\r\n",
      "                               link, show information for the file the link\r\n",
      "                               references rather than for the link itself\r\n",
      "  -m                         fill width with a comma separated list of entries\r\n",
      "  -n, --numeric-uid-gid      like -l, but list numeric user and group IDs\r\n",
      "  -N, --literal              print raw entry names (don't treat e.g. control\r\n",
      "                               characters specially)\r\n",
      "  -o                         like -l, but do not list group information\r\n",
      "  -p, --indicator-style=slash\r\n",
      "                             append / indicator to directories\r\n",
      "  -q, --hide-control-chars   print ? instead of nongraphic characters\r\n",
      "      --show-control-chars   show nongraphic characters as-is (the default,\r\n",
      "                               unless program is 'ls' and output is a terminal)\r\n",
      "  -Q, --quote-name           enclose entry names in double quotes\r\n",
      "      --quoting-style=WORD   use quoting style WORD for entry names:\r\n",
      "                               literal, locale, shell, shell-always, c, escape\r\n",
      "  -r, --reverse              reverse order while sorting\r\n",
      "  -R, --recursive            list subdirectories recursively\r\n",
      "  -s, --size                 print the allocated size of each file, in blocks\r\n",
      "  -S                         sort by file size\r\n",
      "      --sort=WORD            sort by WORD instead of name: none (-U), size (-S),\r\n",
      "                               time (-t), version (-v), extension (-X)\r\n",
      "      --time=WORD            with -l, show time as WORD instead of default\r\n",
      "                               modification time: atime or access or use (-u)\r\n",
      "                               ctime or status (-c); also use specified time\r\n",
      "                               as sort key if --sort=time\r\n",
      "      --time-style=STYLE     with -l, show times using style STYLE:\r\n",
      "                               full-iso, long-iso, iso, locale, or +FORMAT;\r\n",
      "                               FORMAT is interpreted like in 'date'; if FORMAT\r\n",
      "                               is FORMAT1<newline>FORMAT2, then FORMAT1 applies\r\n",
      "                               to non-recent files and FORMAT2 to recent files;\r\n",
      "                               if STYLE is prefixed with 'posix-', STYLE\r\n",
      "                               takes effect only outside the POSIX locale\r\n",
      "  -t                         sort by modification time, newest first\r\n",
      "  -T, --tabsize=COLS         assume tab stops at each COLS instead of 8\r\n",
      "  -u                         with -lt: sort by, and show, access time;\r\n",
      "                               with -l: show access time and sort by name;\r\n",
      "                               otherwise: sort by access time\r\n",
      "  -U                         do not sort; list entries in directory order\r\n",
      "  -v                         natural sort of (version) numbers within text\r\n",
      "  -w, --width=COLS           assume screen width instead of current value\r\n",
      "  -x                         list entries by lines instead of by columns\r\n",
      "  -X                         sort alphabetically by entry extension\r\n",
      "  -Z, --context              print any security context of each file\r\n",
      "  -1                         list one file per line\r\n",
      "      --help     display this help and exit\r\n",
      "      --version  output version information and exit\r\n",
      "\r\n",
      "The SIZE argument is an integer and optional unit (example: 10K is 10*1024).\r\n",
      "Units are K,M,G,T,P,E,Z,Y (powers of 1024) or KB,MB,... (powers of 1000).\r\n",
      "\r\n",
      "Using color to distinguish file types is disabled both by default and\r\n",
      "with --color=never.  With --color=auto, ls emits color codes only when\r\n",
      "standard output is connected to a terminal.  The LS_COLORS environment\r\n",
      "variable can change the settings.  Use the dircolors command to set it.\r\n",
      "\r\n",
      "Exit status:\r\n",
      " 0  if OK,\r\n",
      " 1  if minor problems (e.g., cannot access subdirectory),\r\n",
      " 2  if serious trouble (e.g., cannot access command-line argument).\r\n",
      "\r\n",
      "GNU coreutils online help: <http://www.gnu.org/software/coreutils/>\r\n",
      "Report ls translation bugs to <http://translationproject.org/team/>\r\n",
      "Full documentation at: <http://www.gnu.org/software/coreutils/ls>\r\n",
      "or available locally via: info '(coreutils) ls invocation'\r\n"
     ]
    }
   ],
   "source": [
    "ls --help"
   ]
  },
  {
   "cell_type": "markdown",
   "metadata": {},
   "source": [
    "Let's first look at ls run without any arguments.\n",
    "It produces a list of files in the current directory across several columns"
   ]
  },
  {
   "cell_type": "code",
   "execution_count": 17,
   "metadata": {
    "collapsed": false
   },
   "outputs": [
    {
     "name": "stdout",
     "output_type": "stream",
     "text": [
      "Dockerfile\t\t   Tutorial_Bash_Arrays.ipynb  requirements.txt\r\n",
      "Example_bash_kernel.ipynb  Tutorial_ls.ipynb\r\n",
      "README.md\t\t   metakernel_bash.ipynb\r\n"
     ]
    }
   ],
   "source": [
    "ls"
   ]
  },
  {
   "cell_type": "markdown",
   "metadata": {},
   "source": [
    "If we want a list with 1 file per line, we can provide the '-1' option.\n",
    "\n",
    "This can be useful to make the output simpler to read when there are few files, it can also be useful when we want to use this command to provide input to another command via a pipe"
   ]
  },
  {
   "cell_type": "code",
   "execution_count": 19,
   "metadata": {
    "collapsed": false
   },
   "outputs": [
    {
     "name": "stdout",
     "output_type": "stream",
     "text": [
      "Dockerfile\r\n",
      "Example_bash_kernel.ipynb\r\n",
      "README.md\r\n",
      "Tutorial_Bash_Arrays.ipynb\r\n",
      "Tutorial_ls.ipynb\r\n",
      "metakernel_bash.ipynb\r\n",
      "requirements.txt\r\n"
     ]
    }
   ],
   "source": [
    "ls -1"
   ]
  },
  {
   "cell_type": "markdown",
   "metadata": {},
   "source": [
    "If we wanted to list just files with .ipynb ending (IPython or Jupyter notebooks)"
   ]
  },
  {
   "cell_type": "code",
   "execution_count": 20,
   "metadata": {
    "collapsed": false
   },
   "outputs": [
    {
     "name": "stdout",
     "output_type": "stream",
     "text": [
      "Example_bash_kernel.ipynb\r\n",
      "Tutorial_Bash_Arrays.ipynb\r\n",
      "Tutorial_ls.ipynb\r\n",
      "metakernel_bash.ipynb\r\n"
     ]
    }
   ],
   "source": [
    "ls -1 | grep .ipynb"
   ]
  },
  {
   "cell_type": "code",
   "execution_count": 18,
   "metadata": {
    "collapsed": false
   },
   "outputs": [
    {
     "name": "stdout",
     "output_type": "stream",
     "text": [
      "total 80\r\n",
      "drwxr-xr-x  5 main main  4096 May 16 09:34 .\r\n",
      "drwxr-xr-x 27 main main  4096 May 16 08:40 ..\r\n",
      "drwxrwxr-x 14 main main  4096 May 16 08:36 .git\r\n",
      "drwxr-xr-x  2 main main  4096 May 16 09:24 .ipynb_checkpoints\r\n",
      "-rw-rw-r--  1 main main  1289 May 16 08:36 Dockerfile\r\n",
      "-rw-r--r--  1 main main 25288 May 16 09:25 Example_bash_kernel.ipynb\r\n",
      "-rw-rw-r--  1 main main   221 May 16 08:36 README.md\r\n",
      "-rw-r--r--  1 main main  1478 May 16 09:26 Tutorial_Bash_Arrays.ipynb\r\n",
      "-rw-r--r--  1 main main 12384 May 16 09:34 Tutorial_ls.ipynb\r\n",
      "-rw-rw-r--  1 main main  3998 May 16 08:56 metakernel_bash.ipynb\r\n",
      "-rw-rw-r--  1 main main    12 May 16 08:36 requirements.txt\r\n"
     ]
    }
   ],
   "source": [
    "ls -al"
   ]
  },
  {
   "cell_type": "code",
   "execution_count": null,
   "metadata": {
    "collapsed": true
   },
   "outputs": [],
   "source": []
  }
 ],
 "metadata": {
  "kernelspec": {
   "display_name": "Bash",
   "language": "bash",
   "name": "bash"
  },
  "language_info": {
   "codemirror_mode": "shell",
   "file_extension": ".sh",
   "mimetype": "text/x-sh",
   "name": "bash"
  }
 },
 "nbformat": 4,
 "nbformat_minor": 0
}

{
 "cells": [
  {
   "cell_type": "markdown",
   "metadata": {},
   "source": [
    "<a name=\"TOP\" />\n",
    "# In this directory you will find a series of tutorials using the bash kernel\n",
    "\n",
    "You can launch a notebook in this (binder instance of a Jupyter server) running instance by clikcing on one of the links below:\n",
    "- [Example bash kernel](Example_bash_kernel.ipynb)\n",
    "- [ls tutorial](Tutorial_ls.ipynb)\n",
    "- [Bash Arrays tutorial](Tutorial_Bash_Arrays.ipynb)\n",
    "- [Networking tcpdump tutorial](Networking_tcpdump_tutorial.ipynb)\n",
    "- [Perl6 1liners tutorial](Perl6_1liners_tutorial.ipynb)\n",
    "\n",
    "See below for details on <a href=\"#USING_NB\"> <i><b>how to use this notebook</b></i>  </a> \n",
    "\n",
    "Below we can see the available notebooks"
   ]
  },
  {
   "cell_type": "code",
   "execution_count": 8,
   "metadata": {
    "collapsed": false
   },
   "outputs": [
    {
     "name": "stdout",
     "output_type": "stream",
     "text": [
      "-rwxrwxr-x 1 main main  1152 Jul  9 05:29 Tutorial_Bash_Arrays.ipynb\r\n",
      "-rw-r--r-- 1 main main   613 Jul  9 06:54 Perl6_1liners_tutorial.ipynb\r\n",
      "-rw-r--r-- 1 main main 27218 Jul  9 07:13 Networking_tcpdump_tutorial.ipynb\r\n",
      "-rwxrwxr-x 1 main main 36582 Jul  9 07:16 Tutorial_ls.ipynb\r\n",
      "-rwxrwxr-x 1 main main 25648 Jul  9 07:16 Example_bash_kernel.ipynb\r\n",
      "-rw-r--r-- 1 main main  1773 Jul  9 07:19 INDEX_Tutorials.ipynb\r\n"
     ]
    }
   ],
   "source": [
    "ls -altr *.ipynb"
   ]
  },
  {
   "cell_type": "markdown",
   "metadata": {},
   "source": [
    "<a name=\"USING_NB\" />"
   ]
  },
  {
   "cell_type": "markdown",
   "metadata": {},
   "source": [
    "# Using the Jupyter notebook\n",
    "<a href=\"#TOP\"> Go to TOP <a />\n",
    "\n",
    "You can enter or modify code in the input cells marked as something like \"*In [1]*\", by typing into the cell.\n",
    "\n",
    "You can then execute that code (or render the Markdown if a Markdown cell) by entering shift-ENTER\n",
    "\n",
    "For a quick introduction to the Jupyter notebook, refer here: [Notebook%20Basics.ipynb](https://github.com/jupyter/notebook/blob/master/docs/source/examples/Notebook/Notebook%20Basics.ipynb)\n",
    "\n",
    "![https://github.com/jupyter/notebook/blob/master/docs/source/examples/Notebook/Notebook%20Basics.ipynb](https://github.com/jupyter/notebook/raw/a7da78127a6ac81a027a8f8354066f253caad13a/docs/source/examples/Notebook/images/dashboard_files_tab.png)"
   ]
  },
  {
   "cell_type": "code",
   "execution_count": null,
   "metadata": {
    "collapsed": true
   },
   "outputs": [],
   "source": []
  }
 ],
 "metadata": {
  "kernelspec": {
   "display_name": "Bash",
   "language": "bash",
   "name": "bash"
  },
  "language_info": {
   "codemirror_mode": "shell",
   "file_extension": ".sh",
   "mimetype": "text/x-sh",
   "name": "bash"
  }
 },
 "nbformat": 4,
 "nbformat_minor": 0
}

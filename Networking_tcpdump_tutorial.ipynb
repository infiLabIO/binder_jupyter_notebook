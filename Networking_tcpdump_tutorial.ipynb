{
 "cells": [
  {
   "cell_type": "markdown",
   "metadata": {},
   "source": [
    "<a name=\"TOP\" />"
   ]
  },
  {
   "cell_type": "markdown",
   "metadata": {},
   "source": [
    "# Networking / tcpdump tutorial\n",
    "\n",
    "This tutorial will look at several networking tools available in the default Debian 'Jessie' repositories, especially tcpdump\n",
    "\n",
    "**NOTE**: Although we cannot capture packets in this tutorial, we can use tcpdump to analyse sample capture files.  You can also upload your own pcap files for analysis, so this is really a live tutorial where you can fully experiment with tcpdump packet analysis/display/filtering capabilities\n",
    "\n",
    "**NOTE: New to Jupyter?** - for information on how to use this notebook please refer to the <a href=\"INDEX_Tutorials.ipynb\"> INDEX page </a>\n",
    "\n",
    "### tcpdump man page\n",
    "\n",
    "See <a href=\"#tcpdump_manpage\"> tcpdump man page </a> reproduced below\n",
    "\n",
    "### Resources\n",
    "\n",
    "This tutorial was inspired by the tcpdump man pages and many online  <a href=\"#tcpdump_resources\">resources</a> cited below\n",
    "\n",
    "\n",
    "\n",
    "# What software versions are we using?\n",
    "\n",
    "In the interest of documenting our experiment, let's first document what OS, what shell and other tool versions we are using\n",
    "\n",
    "### OS version"
   ]
  },
  {
   "cell_type": "code",
   "execution_count": 28,
   "metadata": {
    "collapsed": false
   },
   "outputs": [
    {
     "name": "stdout",
     "output_type": "stream",
     "text": [
      "Running kernel version:\r\n",
      "\t Linux notebook-server 3.16.0-0.bpo.4-amd64 #1 SMP Debian 3.16.7-ckt11-1+deb8u2~bpo70+1 (2015-07-22) x86_64 GNU/Linux\r\n",
      "Running release:\r\n",
      "    PRETTY_NAME=\"Debian GNU/Linux 8 (jessie)\"\r\n",
      "    NAME=\"Debian GNU/Linux\"\r\n",
      "    VERSION_ID=\"8\"\r\n",
      "    VERSION=\"8 (jessie)\"\r\n",
      "    ID=debian\r\n",
      "    HOME_URL=\"http://www.debian.org/\"\r\n",
      "    SUPPORT_URL=\"http://www.debian.org/support/\"\r\n",
      "    BUG_REPORT_URL=\"https://bugs.debian.org/\"\r\n"
     ]
    }
   ],
   "source": [
    "echo -e \"Running kernel version:\\n\\t\" $(uname -a)\n",
    "RELEASE_INFO=$(cat /etc/*release 2>/dev/null)\n",
    "[ ! -z \"$RELEASE_INFO\" ] &&\n",
    "    echo -e \"Running release:\"; sed 's/^/    /' /etc/*release"
   ]
  },
  {
   "cell_type": "markdown",
   "metadata": {},
   "source": [
    "### Bash shell version"
   ]
  },
  {
   "cell_type": "code",
   "execution_count": 29,
   "metadata": {
    "collapsed": false
   },
   "outputs": [
    {
     "name": "stdout",
     "output_type": "stream",
     "text": [
      "GNU bash, version 4.3.30(1)-release (x86_64-pc-linux-gnu)\r\n",
      "Copyright (C) 2013 Free Software Foundation, Inc.\r\n",
      "License GPLv3+: GNU GPL version 3 or later <http://gnu.org/licenses/gpl.html>\r\n",
      "\r\n",
      "This is free software; you are free to change and redistribute it.\r\n",
      "There is NO WARRANTY, to the extent permitted by law.\r\n"
     ]
    }
   ],
   "source": [
    "bash --version"
   ]
  },
  {
   "cell_type": "markdown",
   "metadata": {},
   "source": [
    "### tcpdump version"
   ]
  },
  {
   "cell_type": "code",
   "execution_count": 31,
   "metadata": {
    "collapsed": false
   },
   "outputs": [
    {
     "name": "stdout",
     "output_type": "stream",
     "text": [
      "tcpdump version 4.6.2\r\n",
      "libpcap version 1.6.2\r\n",
      "OpenSSL 1.0.1k 8 Jan 2015\r\n"
     ]
    }
   ],
   "source": [
    "tcpdump --version"
   ]
  },
  {
   "cell_type": "markdown",
   "metadata": {},
   "source": [
    "## Capturing with tcpdump\n",
    "\n",
    "As we don't have permission to listen on network interfaces we will work with existing pcap capture files, already created with tcpdump.\n",
    "\n",
    "Nevertheless, we first look at how to capture your own pcap files with tcpdump\n",
    "\n",
    "On a linux system, such as Ubuntu, run\n",
    "```/sbin/ip a```\n",
    "command to see what network interfaces you have.\n",
    "\n",
    "```\n",
    "1: lo: <LOOPBACK,UP,LOWER_UP> mtu 65536 qdisc noqueue state UNKNOWN group default qlen 1\n",
    "    link/loopback 00:00:00:00:00:00 brd 00:00:00:00:00:00\n",
    "    inet 127.0.0.1/8 scope host lo\n",
    "       valid_lft forever preferred_lft forever\n",
    "    inet6 ::1/128 scope host\n",
    "       valid_lft forever preferred_lft forever\n",
    "2: eth0: <BROADCAST,MULTICAST,UP,LOWER_UP> mtu 1500 qdisc pfifo_fast state UP group default qlen 1000\n",
    "    link/ether 40:8d:5c:a0:a2:c8 brd ff:ff:ff:ff:ff:ff\n",
    "    inet 192.168.0.34/24 brd 192.168.0.255 scope global dynamic eth0\n",
    "       valid_lft 34763sec preferred_lft 34763sec\n",
    "    inet6 fe80::30a7:9710:ffa6:eb21/64 scope link\n",
    "       valid_lft forever preferred_lft forever\n",
    "3: wlp2s0: <NO-CARRIER,BROADCAST,MULTICAST,UP> mtu 1500 qdisc mq state DOWN group default qlen 1000\n",
    "    link/ether b4:6d:83:d2:a2:f3 brd ff:ff:ff:ff:ff:ff\n",
    "```\n",
    "\n",
    "We see that my system has 2 networking interfaces\n",
    "- a wired connection 'eth0'\n",
    "- a wireless connection 'wlp2so'.\n",
    "\n",
    "So to sniff for traffic on my wired connection I would enter the command\n",
    "\n",
    "```tcpdump -i eth0```\n",
    "\n",
    "**Note:** you will need to run this command as root, or under sudo\n",
    "\n",
    "### capturing to a file\n",
    "\n",
    "``` tcpdump -i eth0 -w sample.pcap```\n",
    "\n",
    "Here is an example of capturing a pcap file on my system.\n",
    "We can terminate the capture by interrupting by typing ctrl-C, or we can specify the maximum number of packets by adding the `*-c <count>*' parameters\n",
    "\n",
    "\n",
    "### capturing until interruption:\n",
    "using ``` tcpdump -i eth0 -w sample100.pcap```\n",
    "\n",
    "<pre>\n",
    "tcpdump: listening on eth0, link-type EN10MB (Ethernet), capture size 262144 bytes\n",
    "10 packets captured\n",
    "12 packets received by filter\n",
    "0 packets dropped by kernel\n",
    "mjb@NUC:~$ ll sample.pcap\n",
    "-rw-r--r-- 1 root root 1126 Jul  9 08:12 sample.pcap\n",
    "</pre>\n",
    "\n",
    "### capturing 100 packets\n",
    "\n",
    "using ``` tcpdump -v -i eth0 -c 100 -w sample100.pcap```\n",
    "\n",
    "**Note:** we add -v option so that we see the number of packets captured whilst waiting for completion\n",
    "\n",
    "<pre>\n",
    "tcpdump: listening on eth0, link-type EN10MB (Ethernet), capture size 262144 bytes\n",
    "100 packets captured\n",
    "100 packets received by filter\n",
    "0 packets dropped by kernel\n",
    "mjb@NUC:~$ ll sample100.pcap\n",
    "-rw-r--r-- 1 root root 10172 Jul  9 08:23 sample100.pcap\n",
    "</pre>\n",
    "\n",
    "### capturing on all interfaces\n",
    "\n",
    "If you have multiple network interfaces available and you want to capture on all interfaces you can do this by specifying the ```-i any``` parameter, e.g.\n",
    "using ``` tcpdump -v -i any```\n"
   ]
  },
  {
   "cell_type": "markdown",
   "metadata": {},
   "source": [
    "## Analyzing packets\n",
    "\n",
    "We could add many parameters to the above capture commands, but we will investigate their effects whilst reading pre-captured pcap files, here are the sample files we have available."
   ]
  },
  {
   "cell_type": "code",
   "execution_count": 24,
   "metadata": {
    "collapsed": false
   },
   "outputs": [
    {
     "name": "stdout",
     "output_type": "stream",
     "text": [
      "-rw-r--r-- 1 main main  3684 Jul  9 05:53 dhcpProblem.capture.pcap\r\n",
      "-rw-r--r-- 1 main main  1126 Jul  9 06:38 sample.pcap\r\n",
      "-rw-r--r-- 1 main main 10172 Jul  9 06:38 sample100.pcap\r\n"
     ]
    }
   ],
   "source": [
    "ls -al *.pcap"
   ]
  },
  {
   "cell_type": "markdown",
   "metadata": {},
   "source": [
    "**NOTE:** As we are using pcap files from another system, we do not want tcpdump to perform any host name lookup - as it will delay processing considerably. To avoid hostname lookup we will add the -n parameter each time\n",
    "\n",
    "First let's look at our initial sample capture file\n",
    "\n",
    "### Reading captured packets from a file\n",
    "\n",
    "We can read from our capture file using the ```-r``` parameter"
   ]
  },
  {
   "cell_type": "code",
   "execution_count": 32,
   "metadata": {
    "collapsed": false
   },
   "outputs": [
    {
     "name": "stdout",
     "output_type": "stream",
     "text": [
      "reading from file sample.pcap, link-type EN10MB (Ethernet)\r\n",
      "06:12:13.847128 IP 192.168.0.34.22 > 192.168.0.58.56441: Flags [P.], seq 2062217639:2062217763, ack 252119112, win 314, length 124\r\n",
      "06:12:13.848798 IP 192.168.0.58.56441 > 192.168.0.34.22: Flags [.], ack 124, win 53248, length 0\r\n",
      "06:12:14.257627 IP 192.168.0.58.137 > 192.168.0.255.137: NBT UDP PACKET(137): QUERY; REQUEST; BROADCAST\r\n",
      "06:12:14.965764 IP 192.168.0.58.137 > 192.168.0.255.137: NBT UDP PACKET(137): QUERY; REQUEST; BROADCAST\r\n",
      "06:12:15.716589 IP 192.168.0.58.137 > 192.168.0.255.137: NBT UDP PACKET(137): QUERY; REQUEST; BROADCAST\r\n",
      "06:12:16.466113 IP 192.168.0.58.137 > 192.168.0.255.137: NBT UDP PACKET(137): QUERY; REQUEST; BROADCAST\r\n",
      "06:12:17.244502 IP 192.168.0.58.137 > 192.168.0.255.137: NBT UDP PACKET(137): QUERY; REQUEST; BROADCAST\r\n",
      "06:12:17.855085 ARP, Request who-has 192.168.0.254 tell 192.168.0.20, length 46\r\n",
      "06:12:17.967843 IP 192.168.0.58.137 > 192.168.0.255.137: NBT UDP PACKET(137): QUERY; REQUEST; BROADCAST\r\n",
      "06:12:18.717009 IP 192.168.0.58.137 > 192.168.0.255.137: NBT UDP PACKET(137): QUERY; REQUEST; BROADCAST\r\n"
     ]
    }
   ],
   "source": [
    "tcpdump -n -r sample.pcap"
   ]
  },
  {
   "cell_type": "markdown",
   "metadata": {},
   "source": [
    "### Showing hex and ascii dump of packets\n",
    "\n",
    "Below we use the ```-A``` option to dump packets in ASCII, we limit to just thwe first 2 packets using ```-c 2```"
   ]
  },
  {
   "cell_type": "code",
   "execution_count": 35,
   "metadata": {
    "collapsed": false
   },
   "outputs": [
    {
     "name": "stdout",
     "output_type": "stream",
     "text": [
      "reading from file sample.pcap, link-type EN10MB (Ethernet)\r\n",
      "06:12:13.847128 IP 192.168.0.34.22 > 192.168.0.58.56441: Flags [P.], seq 2062217639:2062217763, ack 252119112, win 314, length 124\r\n",
      "E.....@.@......\"...:...yz......HP..:....~..].........\\N.xJ.~......kP...w.C..C-.W../.%..!..g..Y_/k.Mq7)n.'....X.k[....!....[.....`L..OAKG.. u....z..9._W.q..z....(...\r\n",
      "06:12:13.848798 IP 192.168.0.58.56441 > 192.168.0.34.22: Flags [.], ack 124, win 53248, length 0\r\n",
      "E..(.@@...Y....:...\".y.....Hz..#P....9........\r\n"
     ]
    }
   ],
   "source": [
    "tcpdump -n -A -c 2 -r sample.pcap"
   ]
  },
  {
   "cell_type": "markdown",
   "metadata": {},
   "source": [
    "Below we use the ```-XX``` option to dump packets in hexadecimal and in ASCII, we limit to just thwe first 2 packets using ```-c 2```"
   ]
  },
  {
   "cell_type": "code",
   "execution_count": 36,
   "metadata": {
    "collapsed": false
   },
   "outputs": [
    {
     "name": "stdout",
     "output_type": "stream",
     "text": [
      "reading from file sample.pcap, link-type EN10MB (Ethernet)\r\n",
      "06:12:13.847128 IP 192.168.0.34.22 > 192.168.0.58.56441: Flags [P.], seq 2062217639:2062217763, ack 252119112, win 314, length 124\r\n",
      "\t0x0000:  104a 7d2b bd67 408d 5ca0 a2c8 0800 4510  .J}+.g@.\\.....E.\r\n",
      "\t0x0010:  00a4 eb81 4000 4006 cd15 c0a8 0022 c0a8  ....@.@......\"..\r\n",
      "\t0x0020:  003a 0016 dc79 7aea f1a7 0f07 0848 5018  .:...yz......HP.\r\n",
      "\t0x0030:  013a 10d6 0000 7ee4 fe5d d98c 1cfa 1111  .:....~..]......\r\n",
      "\t0x0040:  e5c8 f05c 4eab 784a e67e 9c92 17fb a02e  ...\\N.xJ.~......\r\n",
      "\t0x0050:  6b50 d2b6 0e77 dc43 f618 432d 9d57 849b  kP...w.C..C-.W..\r\n",
      "\t0x0060:  2ffa 2506 1721 0c97 67ac ea59 5f2f 6bb6  /.%..!..g..Y_/k.\r\n",
      "\t0x0070:  4d71 3729 6ecb 2787 de18 8258 b86b 5b99  Mq7)n.'....X.k[.\r\n",
      "\t0x0080:  acf3 aa21 fdc0 d5b3 5bbc 0f84 c3e6 604c  ...!....[.....`L\r\n",
      "\t0x0090:  b892 4f41 4b47 1e19 2075 e680 d0d2 7ae9  ..OAKG...u....z.\r\n",
      "\t0x00a0:  f339 825f 57b5 71f6 e37a 1a1d ee83 2804  .9._W.q..z....(.\r\n",
      "\t0x00b0:  e3a3                                     ..\r\n",
      "06:12:13.848798 IP 192.168.0.58.56441 > 192.168.0.34.22: Flags [.], ack 124, win 53248, length 0\r\n",
      "\t0x0000:  408d 5ca0 a2c8 104a 7d2b bd67 0800 4500  @.\\....J}+.g..E.\r\n",
      "\t0x0010:  0028 1f40 4000 8006 59e3 c0a8 003a c0a8  .(.@@...Y....:..\r\n",
      "\t0x0020:  0022 dc79 0016 0f07 0848 7aea f223 5010  .\".y.....Hz..#P.\r\n",
      "\t0x0030:  d000 fd39 0000 0000 0000 0000            ...9........\r\n"
     ]
    }
   ],
   "source": [
    "tcpdump -n -XX -c 2 -r sample.pcap"
   ]
  },
  {
   "cell_type": "markdown",
   "metadata": {},
   "source": [
    "## Filtering packets"
   ]
  },
  {
   "cell_type": "markdown",
   "metadata": {},
   "source": [
    "### Saving a subset of packets to a file, by writing out to a file\n",
    "\n",
    "Writing out just the first 2 packets:"
   ]
  },
  {
   "cell_type": "code",
   "execution_count": 105,
   "metadata": {
    "collapsed": false
   },
   "outputs": [
    {
     "name": "stdout",
     "output_type": "stream",
     "text": [
      "reading from file sample.pcap, link-type EN10MB (Ethernet)\r\n"
     ]
    }
   ],
   "source": [
    "tcpdump -n -c 2 -r sample.pcap -w saved2.pcap"
   ]
  },
  {
   "cell_type": "code",
   "execution_count": 106,
   "metadata": {
    "collapsed": false
   },
   "outputs": [
    {
     "name": "stdout",
     "output_type": "stream",
     "text": [
      "reading from file saved2.pcap, link-type EN10MB (Ethernet)\r\n",
      "06:12:13.847128 IP 192.168.0.34.22 > 192.168.0.58.56441: Flags [P.], seq 2062217639:2062217763, ack 252119112, win 314, length 124\r\n",
      "06:12:13.848798 IP 192.168.0.58.56441 > 192.168.0.34.22: Flags [.], ack 124, win 53248, length 0\r\n"
     ]
    }
   ],
   "source": [
    "tcpdump -n -r saved2.pcap"
   ]
  },
  {
   "cell_type": "markdown",
   "metadata": {},
   "source": [
    "###### Writing out only packets longer than 70 bytes"
   ]
  },
  {
   "cell_type": "code",
   "execution_count": 107,
   "metadata": {
    "collapsed": false
   },
   "outputs": [
    {
     "name": "stdout",
     "output_type": "stream",
     "text": [
      "reading from file sample.pcap, link-type EN10MB (Ethernet)\r\n"
     ]
    }
   ],
   "source": [
    "tcpdump -n -r sample.pcap greater 70 -w saved_70bytePackets.pcap"
   ]
  },
  {
   "cell_type": "code",
   "execution_count": 108,
   "metadata": {
    "collapsed": false
   },
   "outputs": [
    {
     "name": "stdout",
     "output_type": "stream",
     "text": [
      "reading from file saved_70bytePackets.pcap, link-type EN10MB (Ethernet)\r\n",
      "06:12:13.847128 IP 192.168.0.34.22 > 192.168.0.58.56441: Flags [P.], seq 2062217639:2062217763, ack 252119112, win 314, length 124\r\n",
      "06:12:14.257627 IP 192.168.0.58.137 > 192.168.0.255.137: NBT UDP PACKET(137): QUERY; REQUEST; BROADCAST\r\n",
      "06:12:14.965764 IP 192.168.0.58.137 > 192.168.0.255.137: NBT UDP PACKET(137): QUERY; REQUEST; BROADCAST\r\n",
      "06:12:15.716589 IP 192.168.0.58.137 > 192.168.0.255.137: NBT UDP PACKET(137): QUERY; REQUEST; BROADCAST\r\n",
      "06:12:16.466113 IP 192.168.0.58.137 > 192.168.0.255.137: NBT UDP PACKET(137): QUERY; REQUEST; BROADCAST\r\n",
      "06:12:17.244502 IP 192.168.0.58.137 > 192.168.0.255.137: NBT UDP PACKET(137): QUERY; REQUEST; BROADCAST\r\n",
      "06:12:17.967843 IP 192.168.0.58.137 > 192.168.0.255.137: NBT UDP PACKET(137): QUERY; REQUEST; BROADCAST\r\n",
      "06:12:18.717009 IP 192.168.0.58.137 > 192.168.0.255.137: NBT UDP PACKET(137): QUERY; REQUEST; BROADCAST\r\n"
     ]
    }
   ],
   "source": [
    "tcpdump -n -r saved_70bytePackets.pcap"
   ]
  },
  {
   "cell_type": "markdown",
   "metadata": {},
   "source": [
    "###### Writing out only packets shorter than 70 bytes"
   ]
  },
  {
   "cell_type": "code",
   "execution_count": 109,
   "metadata": {
    "collapsed": false
   },
   "outputs": [
    {
     "name": "stdout",
     "output_type": "stream",
     "text": [
      "reading from file sample.pcap, link-type EN10MB (Ethernet)\r\n"
     ]
    }
   ],
   "source": [
    "tcpdump -n -r sample.pcap less 70 -w saved_smallerThan70bytePackets.pcap"
   ]
  },
  {
   "cell_type": "code",
   "execution_count": 110,
   "metadata": {
    "collapsed": false
   },
   "outputs": [
    {
     "name": "stdout",
     "output_type": "stream",
     "text": [
      "reading from file saved_smallerThan70bytePackets.pcap, link-type EN10MB (Ethernet)\r\n",
      "06:12:13.848798 IP 192.168.0.58.56441 > 192.168.0.34.22: Flags [.], ack 2062217763, win 53248, length 0\r\n",
      "06:12:17.855085 ARP, Request who-has 192.168.0.254 tell 192.168.0.20, length 46\r\n"
     ]
    }
   ],
   "source": [
    "tcpdump -n -r saved_smallerThan70bytePackets.pcap"
   ]
  },
  {
   "cell_type": "markdown",
   "metadata": {},
   "source": [
    "###### Writing out just arp packets"
   ]
  },
  {
   "cell_type": "code",
   "execution_count": 78,
   "metadata": {
    "collapsed": false
   },
   "outputs": [
    {
     "name": "stdout",
     "output_type": "stream",
     "text": [
      "reading from file sample.pcap, link-type EN10MB (Ethernet)\r\n"
     ]
    }
   ],
   "source": [
    "tcpdump -n -r sample.pcap -w saved_ARP.pcap arp"
   ]
  },
  {
   "cell_type": "code",
   "execution_count": 79,
   "metadata": {
    "collapsed": false
   },
   "outputs": [
    {
     "name": "stdout",
     "output_type": "stream",
     "text": [
      "reading from file saved_ARP.pcap, link-type EN10MB (Ethernet)\r\n",
      "06:12:17.855085 ARP, Request who-has 192.168.0.254 tell 192.168.0.20, length 46\r\n"
     ]
    }
   ],
   "source": [
    "tcpdump -n -r saved_ARP.pcap"
   ]
  },
  {
   "cell_type": "code",
   "execution_count": 80,
   "metadata": {
    "collapsed": false
   },
   "outputs": [
    {
     "name": "stdout",
     "output_type": "stream",
     "text": [
      "-rw-r--r-- 1 main main  3684 Jul  9 05:53 dhcpProblem.capture.pcap\r\n",
      "-rw-r--r-- 1 main main  1126 Jul  9 06:38 sample.pcap\r\n",
      "-rw-r--r-- 1 main main 10172 Jul  9 06:38 sample100.pcap\r\n",
      "-rw-r--r-- 1 main main  1126 Jul  9 08:01 g_1024.pcap\r\n",
      "-rw-r--r-- 1 main main  1126 Jul  9 08:01 g_1010.pcap\r\n",
      "-rw-r--r-- 1 main main   294 Jul  9 08:01 saved2.pcap\r\n",
      "-rw-r--r-- 1 main main  1126 Jul  9 08:01 g_10.pcap\r\n",
      "-rw-r--r-- 1 main main  1126 Jul  9 08:01 g_0.pcap\r\n",
      "-rw-r--r-- 1 main main   974 Jul  9 08:07 saved_70bytePackets.pcap\r\n",
      "-rw-r--r-- 1 main main   100 Jul  9 08:08 saved_ARP.pcap\r\n"
     ]
    }
   ],
   "source": [
    "ls -altr *.pcap"
   ]
  },
  {
   "cell_type": "code",
   "execution_count": 59,
   "metadata": {
    "collapsed": false
   },
   "outputs": [
    {
     "name": "stdout",
     "output_type": "stream",
     "text": [
      "reading from file sample.pcap, link-type EN10MB (Ethernet)\r\n",
      "06:12:17.855085 ARP, Request who-has 192.168.0.254 tell 192.168.0.20, length 46\r\n"
     ]
    }
   ],
   "source": [
    "tcpdump -n  -r sample.pcap arp"
   ]
  },
  {
   "cell_type": "markdown",
   "metadata": {},
   "source": [
    "### Filtering packets by port number\n",
    "\n",
    "In this example we filter on port 22 (ssh), by specifying the\n",
    "\n",
    "<pre>port 22</pre>\n",
    "\n",
    "filter, we select the first 2 packets."
   ]
  },
  {
   "cell_type": "code",
   "execution_count": 118,
   "metadata": {
    "collapsed": false
   },
   "outputs": [
    {
     "name": "stdout",
     "output_type": "stream",
     "text": [
      "reading from file sample100.pcap, link-type EN10MB (Ethernet)\r\n",
      "06:22:37.878076 IP 192.168.0.34.22 > 192.168.0.58.56441: Flags [P.], seq 2062226147:2062226271, ack 252123104, win 314, length 124\r\n",
      "06:22:37.879741 IP 192.168.0.58.56441 > 192.168.0.34.22: Flags [.], ack 124, win 52910, length 0\r\n"
     ]
    }
   ],
   "source": [
    "tcpdump -n -r sample100.pcap -c 2 port 22"
   ]
  },
  {
   "cell_type": "markdown",
   "metadata": {},
   "source": [
    "Note that in the above we see a source and a destination port 22.\n",
    "\n",
    "If we want to see only packets with destination port 22, we specify the <pre>dst port 22</pre>\n",
    " filter below.  Note how we still get 2 packets, "
   ]
  },
  {
   "cell_type": "code",
   "execution_count": 119,
   "metadata": {
    "collapsed": false
   },
   "outputs": [
    {
     "name": "stdout",
     "output_type": "stream",
     "text": [
      "reading from file sample100.pcap, link-type EN10MB (Ethernet)\r\n",
      "06:22:37.879741 IP 192.168.0.58.56441 > 192.168.0.34.22: Flags [.], ack 2062226271, win 52910, length 0\r\n",
      "06:22:39.083785 IP 192.168.0.58.56441 > 192.168.0.34.22: Flags [.], ack 45, win 52899, length 0\r\n"
     ]
    }
   ],
   "source": [
    "tcpdump -n -r sample100.pcap -c 2 dst port 22"
   ]
  },
  {
   "cell_type": "markdown",
   "metadata": {},
   "source": [
    "### Filtering packets by ip address and port number\n",
    "\n",
    "In this example we filter on port 22 (ssh), and we will specify the source ip address we are interested in using the filter\n",
    "\n",
    "<pre>src 192.168.0.34 and port 22</pre>"
   ]
  },
  {
   "cell_type": "code",
   "execution_count": 123,
   "metadata": {
    "collapsed": false
   },
   "outputs": [
    {
     "name": "stdout",
     "output_type": "stream",
     "text": [
      "reading from file sample100.pcap, link-type EN10MB (Ethernet)\r\n",
      "06:22:37.878076 IP 192.168.0.34.22 > 192.168.0.58.56441: Flags [P.], seq 2062226147:2062226271, ack 252123104, win 314, length 124\r\n",
      "06:22:38.879339 IP 192.168.0.34.22 > 192.168.0.58.56441: Flags [P.], seq 124:168, ack 1, win 314, length 44\r\n"
     ]
    }
   ],
   "source": [
    "tcpdump -n -r sample100.pcap -c 2 src 192.168.0.34 and port 22"
   ]
  },
  {
   "cell_type": "markdown",
   "metadata": {},
   "source": [
    "In this example we filter on port 22 (ssh), and we will specify the destination ip address we are interested in using the filter\n",
    "\n",
    "<pre>dst 192.168.0.34 and port 22</pre>"
   ]
  },
  {
   "cell_type": "code",
   "execution_count": 126,
   "metadata": {
    "collapsed": false
   },
   "outputs": [
    {
     "name": "stdout",
     "output_type": "stream",
     "text": [
      "reading from file sample100.pcap, link-type EN10MB (Ethernet)\r\n",
      "06:22:37.879741 IP 192.168.0.58.56441 > 192.168.0.34.22: Flags [.], ack 2062226271, win 52910, length 0\r\n",
      "06:22:39.083785 IP 192.168.0.58.56441 > 192.168.0.34.22: Flags [.], ack 45, win 52899, length 0\r\n"
     ]
    }
   ],
   "source": [
    "tcpdump -n -r sample100.pcap -c 2 dst 192.168.0.34 and port 22"
   ]
  },
  {
   "cell_type": "markdown",
   "metadata": {},
   "source": [
    "We can also combine filters to filter on multiple ports, now let's see how we can use this for a practical example\n",
    "\n",
    "Let's look for dhcp exchanges (on port 67 or 68)"
   ]
  },
  {
   "cell_type": "code",
   "execution_count": 140,
   "metadata": {
    "collapsed": false
   },
   "outputs": [
    {
     "name": "stdout",
     "output_type": "stream",
     "text": [
      "reading from file dhcpProblem.capture.pcap, link-type EN10MB (Ethernet)\r\n",
      "18:11:26.463826 IP 0.0.0.0.68 > 255.255.255.255.67: BOOTP/DHCP, Request from fa:16:3e:01:85:d1, length 280\r\n",
      "18:11:26.464311 IP 10.0.0.1.67 > 10.0.0.4.68: BOOTP/DHCP, Reply, length 316\r\n",
      "18:11:29.485856 IP 0.0.0.0.68 > 255.255.255.255.67: BOOTP/DHCP, Request from fa:16:3e:01:85:d1, length 280\r\n",
      "18:11:29.486185 IP 10.0.0.1.67 > 10.0.0.4.68: BOOTP/DHCP, Reply, length 316\r\n",
      "18:11:32.506631 IP 0.0.0.0.68 > 255.255.255.255.67: BOOTP/DHCP, Request from fa:16:3e:01:85:d1, length 280\r\n",
      "18:11:32.507379 IP 10.0.0.1.67 > 10.0.0.4.68: BOOTP/DHCP, Reply, length 316\r\n"
     ]
    }
   ],
   "source": [
    "tcpdump -n -r dhcpProblem.capture.pcap port 67 or port 68"
   ]
  },
  {
   "cell_type": "markdown",
   "metadata": {},
   "source": [
    "Now let's look at that first packet - a BOOTP/DHCP broadcast request on port 67\n",
    "\n",
    "We'll specify options\n",
    "- -e: to show the link level header also\n",
    "- -v: to decode the DHCP request packet\n",
    "- -c1: to display only the first matching packet\n",
    "- dst port 67: to display packets destined to port 67"
   ]
  },
  {
   "cell_type": "code",
   "execution_count": 146,
   "metadata": {
    "collapsed": false
   },
   "outputs": [
    {
     "name": "stdout",
     "output_type": "stream",
     "text": [
      "reading from file dhcpProblem.capture.pcap, link-type EN10MB (Ethernet)\r\n",
      "18:11:26.463826 fa:16:3e:01:85:d1 > ff:ff:ff:ff:ff:ff, ethertype IPv4 (0x0800), length 322: (tos 0x0, ttl 64, id 0, offset 0, flags [none], proto UDP (17), length 308)\r\n",
      "    0.0.0.0.68 > 255.255.255.255.67: BOOTP/DHCP, Request from fa:16:3e:01:85:d1, length 280, xid 0xbb124533, Flags [none]\r\n",
      "\t  Client-Ethernet-Address fa:16:3e:01:85:d1\r\n",
      "\t  Vendor-rfc1048 Extensions\r\n",
      "\t    Magic Cookie 0x63825363\r\n",
      "\t    DHCP-Message Option 53, length 1: Discover\r\n",
      "\t    Client-ID Option 61, length 7: ether fa:16:3e:01:85:d1\r\n",
      "\t    MSZ Option 57, length 2: 576\r\n",
      "\t    Parameter-Request Option 55, length 7: \r\n",
      "\t      Subnet-Mask, Default-Gateway, Domain-Name-Server, Hostname\r\n",
      "\t      Domain-Name, BR, NTP\r\n",
      "\t    Vendor-Class Option 60, length 12: \"udhcp 1.18.5\"\r\n"
     ]
    }
   ],
   "source": [
    "tcpdump -v -n -e -r dhcpProblem.capture.pcap dst port 67 -c1"
   ]
  },
  {
   "cell_type": "markdown",
   "metadata": {},
   "source": [
    "Note in the above output\n",
    "- The source      MAC address is the broadcast address fa:16:3e:01:85:d1\n",
    "- The destination MAC address is the broadcast address ff:ff:ff:ff:ff:ff\n",
    "- The destination  IP address is the broadcast address 255.255.255.255\n",
    "- This is a BOOTP/DHCP, Request\n",
    "\n",
    "Now we can inspect the first DHCP reply send"
   ]
  },
  {
   "cell_type": "code",
   "execution_count": 148,
   "metadata": {
    "collapsed": false
   },
   "outputs": [
    {
     "name": "stdout",
     "output_type": "stream",
     "text": [
      "reading from file dhcpProblem.capture.pcap, link-type EN10MB (Ethernet)\r\n",
      "18:11:26.464311 fa:16:3e:09:06:d9 > fa:16:3e:01:85:d1, ethertype IPv4 (0x0800), length 358: (tos 0x0, ttl 64, id 2832, offset 0, flags [none], proto UDP (17), length 344)\r\n",
      "    10.0.0.1.67 > 10.0.0.4.68: BOOTP/DHCP, Reply, length 316, xid 0xbb124533, Flags [none]\r\n",
      "\t  Your-IP 10.0.0.4\r\n",
      "\t  Server-IP 10.0.0.1\r\n",
      "\t  Client-Ethernet-Address fa:16:3e:01:85:d1\r\n",
      "\t  Vendor-rfc1048 Extensions\r\n",
      "\t    Magic Cookie 0x63825363\r\n",
      "\t    DHCP-Message Option 53, length 1: Offer\r\n",
      "\t    Server-ID Option 54, length 4: 10.0.0.1\r\n",
      "\t    Lease-Time Option 51, length 4: 120\r\n",
      "\t    RN Option 58, length 4: 60\r\n",
      "\t    RB Option 59, length 4: 105\r\n",
      "\t    Subnet-Mask Option 1, length 4: 255.255.255.192\r\n",
      "\t    BR Option 28, length 4: 10.0.0.63\r\n",
      "\t    Default-Gateway Option 3, length 4: 10.0.0.1\r\n",
      "\t    Domain-Name-Server Option 6, length 4: 10.0.0.1\r\n",
      "\t    Domain-Name Option 15, length 9: \"novalocal\"\r\n",
      "\t    Hostname Option 12, length 11: \"mycirros030\"\r\n"
     ]
    }
   ],
   "source": [
    "tcpdump -v -n -e -r dhcpProblem.capture.pcap dst port 68 -c1"
   ]
  },
  {
   "cell_type": "markdown",
   "metadata": {},
   "source": [
    "Note in the above output\n",
    "- The destination MAC address is the *original requestor* address fa:16:3e:01:85:d1\n",
    "- The destination  IP address is the *offered* IP address 10.0.0.4\n",
    "- This is a BOOTP/DHCP, Offer providing the requestor with\n",
    "  - IP address 10.0.0.4\n",
    "  - fully qualified host name (Host+Domain): mycirros030.novalocal\n",
    "\n"
   ]
  },
  {
   "cell_type": "code",
   "execution_count": 6,
   "metadata": {
    "collapsed": false
   },
   "outputs": [
    {
     "name": "stdout",
     "output_type": "stream",
     "text": [
      "bash: man: command not found\r\n"
     ]
    }
   ],
   "source": [
    "man tcpdump"
   ]
  },
  {
   "cell_type": "code",
   "execution_count": 7,
   "metadata": {
    "collapsed": false
   },
   "outputs": [
    {
     "name": "stdout",
     "output_type": "stream",
     "text": [
      "tcpdump version 4.6.2\r\n",
      "libpcap version 1.6.2\r\n",
      "OpenSSL 1.0.1k 8 Jan 2015\r\n",
      "Usage: tcpdump [-aAbdDefhHIJKlLnNOpqRStuUvxX#] [ -B size ] [ -c count ]\r\n",
      "\t\t[ -C file_size ] [ -E algo:secret ] [ -F file ] [ -G seconds ]\r\n",
      "\t\t[ -i interface ] [ -j tstamptype ] [ -M secret ] [ --number ]\r\n",
      "\t\t[ -Q in|out|inout ]\r\n",
      "\t\t[ -r file ] [ -s snaplen ] [ --time-stamp-precision precision ]\r\n",
      "\t\t[ -T type ] [ --version ] [ -V file ]\r\n",
      "\t\t[ -w file ] [ -W filecount ] [ -y datalinktype ] [ -z command ]\r\n",
      "\t\t[ -Z user ] [ expression ]\r\n"
     ]
    }
   ],
   "source": [
    "tcpdump --help"
   ]
  },
  {
   "cell_type": "markdown",
   "metadata": {},
   "source": [
    "<a name=\"tcpdump_manpage\"/>\n",
    "# tcpdump manpage\n",
    "<a href=\"#TOP\"> Go to TOP of page </a>\n",
    "\n"
   ]
  },
  {
   "cell_type": "code",
   "execution_count": 19,
   "metadata": {
    "collapsed": false
   },
   "outputs": [
    {
     "name": "stdout",
     "output_type": "stream",
     "text": [
      "bash: man: command not found\r\n"
     ]
    }
   ],
   "source": [
    "man tcpdump"
   ]
  },
  {
   "cell_type": "code",
   "execution_count": null,
   "metadata": {
    "collapsed": true
   },
   "outputs": [],
   "source": []
  },
  {
   "cell_type": "markdown",
   "metadata": {},
   "source": [
    "<a name=\"tcpdump_resources\"/>\n",
    "# Resources\n",
    "<a href=\"#TOP\"> Go to TOP of page </a>\n",
    "\n",
    "- [**Packet Analyzer: 15 TCPDUMP Command Examples**\n",
    "](http://www.thegeekstuff.com/2010/08/tcpdump-command-examples/)by SASIKALA on AUGUST 25, 2010\n",
    "\n",
    "\n",
    "- [**Stackoverflow: How to filter tcpdump output based on a packet length**\n",
    "](http://stackoverflow.com/questions/9874093/how-to-filter-tcpdump-output-based-on-a-packet-length)by Muhammet Can on Mar 26 2012\n",
    "\n",
    "\n",
    "- [**Linux.com: Troubleshooting connection problems with TCPDUMP: DHCP**](https://www.linux.com/blog/troubleshooting-connection-problems-tcpdump-dhcp) by Shawn Holland, FEBRUARY 7, 2010\n",
    "\n"
   ]
  },
  {
   "cell_type": "code",
   "execution_count": null,
   "metadata": {
    "collapsed": true
   },
   "outputs": [],
   "source": []
  }
 ],
 "metadata": {
  "kernelspec": {
   "display_name": "Bash",
   "language": "bash",
   "name": "bash"
  },
  "language_info": {
   "codemirror_mode": "shell",
   "file_extension": ".sh",
   "mimetype": "text/x-sh",
   "name": "bash"
  }
 },
 "nbformat": 4,
 "nbformat_minor": 0
}

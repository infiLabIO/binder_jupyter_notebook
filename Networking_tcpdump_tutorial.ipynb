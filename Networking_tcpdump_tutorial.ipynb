{
 "cells": [
  {
   "cell_type": "markdown",
   "metadata": {},
   "source": [
    "# Networking / tcpdump tutorial\n",
    "\n",
    "This tutorial will look at several networking tools available in the default Debian 'Jessie' repositories, especially tcpdump\n",
    "\n",
    "### What tcpdump version are we running in this notebook?\n",
    "\n",
    "First let's check what version of tcpdump we are running - in the interests of documenting our experiment"
   ]
  },
  {
   "cell_type": "code",
   "execution_count": 14,
   "metadata": {
    "collapsed": false
   },
   "outputs": [
    {
     "name": "stdout",
     "output_type": "stream",
     "text": [
      "tcpdump version 4.6.2\r\n",
      "libpcap version 1.6.2\r\n",
      "OpenSSL 1.0.1k 8 Jan 2015\r\n"
     ]
    }
   ],
   "source": [
    "tcpdump --version"
   ]
  },
  {
   "cell_type": "markdown",
   "metadata": {},
   "source": [
    "### Capturing with tcpdump\n",
    "\n",
    "As we don't have permission to listen on network interfaces we will work with existing pcap capture files, already created with tcpdump.\n",
    "\n",
    "Nevertheless, we first look at how to capture your own pcap files with tcpdump\n",
    "\n",
    "On a linux system, such as Ubuntu, run\n",
    "```/sbin/ip a```\n",
    "command to see what network interfaces you have.\n",
    "\n",
    "```\n",
    "1: lo: <LOOPBACK,UP,LOWER_UP> mtu 65536 qdisc noqueue state UNKNOWN group default qlen 1\n",
    "    link/loopback 00:00:00:00:00:00 brd 00:00:00:00:00:00\n",
    "    inet 127.0.0.1/8 scope host lo\n",
    "       valid_lft forever preferred_lft forever\n",
    "    inet6 ::1/128 scope host\n",
    "       valid_lft forever preferred_lft forever\n",
    "2: enp3s0: <BROADCAST,MULTICAST,UP,LOWER_UP> mtu 1500 qdisc pfifo_fast state UP group default qlen 1000\n",
    "    link/ether 40:8d:5c:a0:a2:c8 brd ff:ff:ff:ff:ff:ff\n",
    "    inet 192.168.0.34/24 brd 192.168.0.255 scope global dynamic enp3s0\n",
    "       valid_lft 34763sec preferred_lft 34763sec\n",
    "    inet6 fe80::30a7:9710:ffa6:eb21/64 scope link\n",
    "       valid_lft forever preferred_lft forever\n",
    "3: wlp2s0: <NO-CARRIER,BROADCAST,MULTICAST,UP> mtu 1500 qdisc mq state DOWN group default qlen 1000\n",
    "    link/ether b4:6d:83:d2:a2:f3 brd ff:ff:ff:ff:ff:ff\n",
    "```\n",
    "\n",
    "We see that my system has 2 networking interfaces\n",
    "- a wired connection 'enp3s0'\n",
    "- a wireless connection 'wlp2so'.\n",
    "\n",
    "So to sniff for traffic on my wired connection I would enter the command\n",
    "\n",
    "```tcpdump -i enp3s0```\n",
    "\n",
    "**Note:** you will need to run this command as root, or under sudo\n",
    "\n",
    "### capturing to a file\n",
    "\n",
    "``` tcpdump -i enp3s0 -w sample.pcap```\n",
    "\n",
    "Here is an example of capturing a pcap file on my system.\n",
    "We can terminate the capture by interrupting by typing ctrl-C, or we can specify the maximum number of packets by adding the `*-c <count>*' parameters\n",
    "\n",
    "\n",
    "#### capturing until interruption:\n",
    "<pre>\n",
    "tcpdump: listening on enp3s0, link-type EN10MB (Ethernet), capture size 262144 bytes\n",
    "10 packets captured\n",
    "12 packets received by filter\n",
    "0 packets dropped by kernel\n",
    "mjb@NUC:~$ ll sample.pcap\n",
    "-rw-r--r-- 1 root root 1126 Jul  9 08:12 sample.pcap\n",
    "</pre>\n",
    "\n",
    "#### capturing 100 packets, using\n",
    "``` tcpdump -v -i enp3s0 -c 100 -w sample100.pcap```\n",
    "Note: we add -v option so that we see the number of packets captured whilst waiting for completion\n",
    "\n",
    "<pre>\n",
    "tcpdump: listening on enp3s0, link-type EN10MB (Ethernet), capture size 262144 bytes\n",
    "100 packets captured\n",
    "100 packets received by filter\n",
    "0 packets dropped by kernel\n",
    "mjb@NUC:~$ ll sample100.pcap\n",
    "-rw-r--r-- 1 root root 10172 Jul  9 08:23 sample100.pcap\n",
    "</pre>\n",
    "\n"
   ]
  },
  {
   "cell_type": "markdown",
   "metadata": {},
   "source": [
    "## Analyzing packets\n",
    "\n",
    "We could add many parameters to the above capture commands, but we will investigate their effects whilst reading pre-captured pcap files"
   ]
  },
  {
   "cell_type": "code",
   "execution_count": 3,
   "metadata": {
    "collapsed": false
   },
   "outputs": [
    {
     "name": "stdout",
     "output_type": "stream",
     "text": [
      "dhcpProblem.capture.pcap\r\n"
     ]
    }
   ],
   "source": [
    "ls dhcpProblem.capture.pcap"
   ]
  },
  {
   "cell_type": "code",
   "execution_count": 4,
   "metadata": {
    "collapsed": false
   },
   "outputs": [
    {
     "name": "stdout",
     "output_type": "stream",
     "text": [
      "-rw-r--r-- 1 main main 3684 Jul  9 05:53 dhcpProblem.capture.pcap\r\n"
     ]
    }
   ],
   "source": [
    "ls -altr dhcpProblem.capture.pcap"
   ]
  },
  {
   "cell_type": "code",
   "execution_count": 13,
   "metadata": {
    "collapsed": false
   },
   "outputs": [
    {
     "name": "stdout",
     "output_type": "stream",
     "text": [
      "reading from file dhcpProblem.capture.pcap, link-type EN10MB (Ethernet)\r\n",
      "18:11:26.385144 IP6 :: > ff02::16: HBH ICMP6, multicast listener report v2, 1 group record(s), length 28\r\n",
      "18:11:26.463826 IP 0.0.0.0.bootpc > 255.255.255.255.bootps: BOOTP/DHCP, Request from fa:16:3e:01:85:d1 (oui Unknown), length 280\r\n",
      "18:11:26.464311 IP 10.0.0.1.bootps > 10.0.0.4.bootpc: BOOTP/DHCP, Reply, length 316\r\n",
      "18:11:26.545760 IP6 :: > ff02::1:ff01:85d1: ICMP6, neighbor solicitation, who has fe80::f816:3eff:fe01:85d1, length 24\r\n",
      "18:11:26.585544 IP6 :: > ff02::16: HBH ICMP6, multicast listener report v2, 1 group record(s), length 28\r\n",
      "18:11:29.485856 IP 0.0.0.0.bootpc > 255.255.255.255.bootps: BOOTP/DHCP, Request from fa:16:3e:01:85:d1 (oui Unknown), length 280\r\n",
      "18:11:29.486185 IP 10.0.0.1.bootps > 10.0.0.4.bootpc: BOOTP/DHCP, Reply, length 316\r\n",
      "18:11:32.506631 IP 0.0.0.0.bootpc > 255.255.255.255.bootps: BOOTP/DHCP, Request from fa:16:3e:01:85:d1 (oui Unknown), length 280\r\n",
      "18:11:32.507379 IP 10.0.0.1.bootps > 10.0.0.4.bootpc: BOOTP/DHCP, Reply, length 316\r\n",
      "18:11:37.516460 ARP, Request who-has 10.0.0.4 tell 10.0.0.1, length 28\r\n",
      "18:11:38.516462 ARP, Request who-has 10.0.0.4 tell 10.0.0.1, length 28\r\n",
      "18:11:39.516461 ARP, Request who-has 10.0.0.4 tell 10.0.0.1, length 28\r\n",
      "18:15:20.358992 ARP, Request who-has 10.0.0.4 tell 10.0.0.1, length 28\r\n",
      "18:15:21.356512 ARP, Request who-has 10.0.0.4 tell 10.0.0.1, length 28\r\n",
      "18:15:22.356473 ARP, Request who-has 10.0.0.4 tell 10.0.0.1, length 28\r\n",
      "18:15:23.356631 ARP, Request who-has 10.0.0.4 tell 10.0.0.1, length 28\r\n",
      "18:15:24.356506 ARP, Request who-has 10.0.0.4 tell 10.0.0.1, length 28\r\n",
      "18:15:25.356510 ARP, Request who-has 10.0.0.4 tell 10.0.0.1, length 28\r\n",
      "18:16:09.960593 ARP, Request who-has 10.0.0.4 tell 10.0.0.1, length 28\r\n",
      "18:16:10.960468 ARP, Request who-has 10.0.0.4 tell 10.0.0.1, length 28\r\n",
      "18:16:11.960475 ARP, Request who-has 10.0.0.4 tell 10.0.0.1, length 28\r\n",
      "18:16:12.960711 ARP, Request who-has 10.0.0.4 tell 10.0.0.1, length 28\r\n",
      "18:16:13.960468 ARP, Request who-has 10.0.0.4 tell 10.0.0.1, length 28\r\n",
      "18:16:14.960511 ARP, Request who-has 10.0.0.4 tell 10.0.0.1, length 28\r\n",
      "18:16:15.960746 ARP, Request who-has 10.0.0.4 tell 10.0.0.1, length 28\r\n",
      "18:16:16.960524 ARP, Request who-has 10.0.0.4 tell 10.0.0.1, length 28\r\n",
      "18:16:17.960513 ARP, Request who-has 10.0.0.4 tell 10.0.0.1, length 28\r\n",
      "18:16:18.960739 ARP, Request who-has 10.0.0.4 tell 10.0.0.1, length 28\r\n",
      "18:16:19.960512 ARP, Request who-has 10.0.0.4 tell 10.0.0.1, length 28\r\n",
      "18:16:20.960473 ARP, Request who-has 10.0.0.4 tell 10.0.0.1, length 28\r\n",
      "\r\n",
      "real\t0m35.116s\r\n",
      "user\t0m0.004s\r\n",
      "sys\t0m0.004s\r\n"
     ]
    }
   ],
   "source": [
    "# will do dns lookup (slow!)\n",
    "time tcpdump -r dhcpProblem.capture.pcap"
   ]
  },
  {
   "cell_type": "code",
   "execution_count": 12,
   "metadata": {
    "collapsed": false
   },
   "outputs": [
    {
     "name": "stdout",
     "output_type": "stream",
     "text": [
      "reading from file dhcpProblem.capture.pcap, link-type EN10MB (Ethernet)\r\n",
      "18:11:26.385144 IP6 :: > ff02::16: HBH ICMP6, multicast listener report v2, 1 group record(s), length 28\r\n",
      "18:11:26.463826 IP 0.0.0.0.68 > 255.255.255.255.67: BOOTP/DHCP, Request from fa:16:3e:01:85:d1, length 280\r\n",
      "18:11:26.464311 IP 10.0.0.1.67 > 10.0.0.4.68: BOOTP/DHCP, Reply, length 316\r\n",
      "18:11:26.545760 IP6 :: > ff02::1:ff01:85d1: ICMP6, neighbor solicitation, who has fe80::f816:3eff:fe01:85d1, length 24\r\n",
      "18:11:26.585544 IP6 :: > ff02::16: HBH ICMP6, multicast listener report v2, 1 group record(s), length 28\r\n",
      "18:11:29.485856 IP 0.0.0.0.68 > 255.255.255.255.67: BOOTP/DHCP, Request from fa:16:3e:01:85:d1, length 280\r\n",
      "18:11:29.486185 IP 10.0.0.1.67 > 10.0.0.4.68: BOOTP/DHCP, Reply, length 316\r\n",
      "18:11:32.506631 IP 0.0.0.0.68 > 255.255.255.255.67: BOOTP/DHCP, Request from fa:16:3e:01:85:d1, length 280\r\n",
      "18:11:32.507379 IP 10.0.0.1.67 > 10.0.0.4.68: BOOTP/DHCP, Reply, length 316\r\n",
      "18:11:37.516460 ARP, Request who-has 10.0.0.4 tell 10.0.0.1, length 28\r\n",
      "18:11:38.516462 ARP, Request who-has 10.0.0.4 tell 10.0.0.1, length 28\r\n",
      "18:11:39.516461 ARP, Request who-has 10.0.0.4 tell 10.0.0.1, length 28\r\n",
      "18:15:20.358992 ARP, Request who-has 10.0.0.4 tell 10.0.0.1, length 28\r\n",
      "18:15:21.356512 ARP, Request who-has 10.0.0.4 tell 10.0.0.1, length 28\r\n",
      "18:15:22.356473 ARP, Request who-has 10.0.0.4 tell 10.0.0.1, length 28\r\n",
      "18:15:23.356631 ARP, Request who-has 10.0.0.4 tell 10.0.0.1, length 28\r\n",
      "18:15:24.356506 ARP, Request who-has 10.0.0.4 tell 10.0.0.1, length 28\r\n",
      "18:15:25.356510 ARP, Request who-has 10.0.0.4 tell 10.0.0.1, length 28\r\n",
      "18:16:09.960593 ARP, Request who-has 10.0.0.4 tell 10.0.0.1, length 28\r\n",
      "18:16:10.960468 ARP, Request who-has 10.0.0.4 tell 10.0.0.1, length 28\r\n",
      "18:16:11.960475 ARP, Request who-has 10.0.0.4 tell 10.0.0.1, length 28\r\n",
      "18:16:12.960711 ARP, Request who-has 10.0.0.4 tell 10.0.0.1, length 28\r\n",
      "18:16:13.960468 ARP, Request who-has 10.0.0.4 tell 10.0.0.1, length 28\r\n",
      "18:16:14.960511 ARP, Request who-has 10.0.0.4 tell 10.0.0.1, length 28\r\n",
      "18:16:15.960746 ARP, Request who-has 10.0.0.4 tell 10.0.0.1, length 28\r\n",
      "18:16:16.960524 ARP, Request who-has 10.0.0.4 tell 10.0.0.1, length 28\r\n",
      "18:16:17.960513 ARP, Request who-has 10.0.0.4 tell 10.0.0.1, length 28\r\n",
      "18:16:18.960739 ARP, Request who-has 10.0.0.4 tell 10.0.0.1, length 28\r\n",
      "18:16:19.960512 ARP, Request who-has 10.0.0.4 tell 10.0.0.1, length 28\r\n",
      "18:16:20.960473 ARP, Request who-has 10.0.0.4 tell 10.0.0.1, length 28\r\n",
      "\r\n",
      "real\t0m0.002s\r\n",
      "user\t0m0.000s\r\n",
      "sys\t0m0.000s\r\n"
     ]
    }
   ],
   "source": [
    "time tcpdump -n -r dhcpProblem.capture.pcap"
   ]
  },
  {
   "cell_type": "code",
   "execution_count": 9,
   "metadata": {
    "collapsed": false
   },
   "outputs": [
    {
     "name": "stdout",
     "output_type": "stream",
     "text": [
      "reading from file dhcpProblem.capture.pcap, link-type EN10MB (Ethernet)\r\n",
      "18:11:26.385144 IP6 :: > ff02::16: HBH ICMP6, multicast listener report v2, 1 group record(s), length 28\r\n",
      "`....$..................................:...................................\r\n",
      "18:11:26.463826 IP 0.0.0.0.68 > 255.255.255.255.67: UDP, length 280\r\n",
      "E..4....@.y..........D.C. BZ......E3......................>.............................................................................................................................................................................................................c.Sc5..=....>...9..@7.......*<.udhcp 1.18.5.\r\n",
      "18:11:26.464311 IP 10.0.0.1.67 > 10.0.0.4.68: UDP, length 316\r\n",
      "E..X....@.Z.\r\n",
      "...\r\n",
      "....C.D.D.Z......E3........\r\n",
      "...\r\n",
      ".........>.............................................................................................................................................................................................................c.Sc5..6.\r\n",
      "...3....x:....<;....i........\r\n",
      "..?..\r\n",
      ".....\r\n",
      "....\tnovalocal..mycirros030.\r\n",
      "18:11:26.545760 IP6 :: > ff02::1:ff01:85d1: ICMP6, neighbor solicitation, who has fe80::f816:3eff:fe01:85d1, length 24\r\n",
      "`.....:...................................;k..............>.....\r\n",
      "18:11:26.585544 IP6 :: > ff02::16: HBH ICMP6, multicast listener report v2, 1 group record(s), length 28\r\n",
      "`....$..................................:...................................\r\n",
      "18:11:29.485856 IP 0.0.0.0.68 > 255.255.255.255.67: UDP, length 280\r\n",
      "E..4....@.y..........D.C. BZ......E3......................>.............................................................................................................................................................................................................c.Sc5..=....>...9..@7.......*<.udhcp 1.18.5.\r\n",
      "18:11:29.486185 IP 10.0.0.1.67 > 10.0.0.4.68: UDP, length 316\r\n",
      "E..X....@.Z.\r\n",
      "...\r\n",
      "....C.D.D.Z......E3........\r\n",
      "...\r\n",
      ".........>.............................................................................................................................................................................................................c.Sc5..6.\r\n",
      "...3....x:....<;....i........\r\n",
      "..?..\r\n",
      ".....\r\n",
      "....\tnovalocal..mycirros030.\r\n",
      "18:11:32.506631 IP 0.0.0.0.68 > 255.255.255.255.67: UDP, length 280\r\n",
      "E..4....@.y..........D.C. BZ......E3......................>.............................................................................................................................................................................................................c.Sc5..=....>...9..@7.......*<.udhcp 1.18.5.\r\n",
      "18:11:32.507379 IP 10.0.0.1.67 > 10.0.0.4.68: UDP, length 316\r\n",
      "E..X....@.Z.\r\n",
      "...\r\n",
      "....C.D.D.Z......E3........\r\n",
      "...\r\n",
      ".........>.............................................................................................................................................................................................................c.Sc5..6.\r\n",
      "...3....x:....<;....i........\r\n",
      "..?..\r\n",
      ".....\r\n",
      "....\tnovalocal..mycirros030.\r\n",
      "18:11:37.516460 ARP, Request who-has 10.0.0.4 tell 10.0.0.1, length 28\r\n",
      "..........>\t..\r\n",
      ".........\r\n",
      "...\r\n",
      "18:11:38.516462 ARP, Request who-has 10.0.0.4 tell 10.0.0.1, length 28\r\n",
      "..........>\t..\r\n",
      ".........\r\n",
      "...\r\n",
      "18:11:39.516461 ARP, Request who-has 10.0.0.4 tell 10.0.0.1, length 28\r\n",
      "..........>\t..\r\n",
      ".........\r\n",
      "...\r\n",
      "18:15:20.358992 ARP, Request who-has 10.0.0.4 tell 10.0.0.1, length 28\r\n",
      "..........>\t..\r\n",
      ".........\r\n",
      "...\r\n",
      "18:15:21.356512 ARP, Request who-has 10.0.0.4 tell 10.0.0.1, length 28\r\n",
      "..........>\t..\r\n",
      ".........\r\n",
      "...\r\n",
      "18:15:22.356473 ARP, Request who-has 10.0.0.4 tell 10.0.0.1, length 28\r\n",
      "..........>\t..\r\n",
      ".........\r\n",
      "...\r\n",
      "18:15:23.356631 ARP, Request who-has 10.0.0.4 tell 10.0.0.1, length 28\r\n",
      "..........>\t..\r\n",
      ".........\r\n",
      "...\r\n",
      "18:15:24.356506 ARP, Request who-has 10.0.0.4 tell 10.0.0.1, length 28\r\n",
      "..........>\t..\r\n",
      ".........\r\n",
      "...\r\n",
      "18:15:25.356510 ARP, Request who-has 10.0.0.4 tell 10.0.0.1, length 28\r\n",
      "..........>\t..\r\n",
      ".........\r\n",
      "...\r\n",
      "18:16:09.960593 ARP, Request who-has 10.0.0.4 tell 10.0.0.1, length 28\r\n",
      "..........>\t..\r\n",
      ".........\r\n",
      "...\r\n",
      "18:16:10.960468 ARP, Request who-has 10.0.0.4 tell 10.0.0.1, length 28\r\n",
      "..........>\t..\r\n",
      ".........\r\n",
      "...\r\n",
      "18:16:11.960475 ARP, Request who-has 10.0.0.4 tell 10.0.0.1, length 28\r\n",
      "..........>\t..\r\n",
      ".........\r\n",
      "...\r\n",
      "18:16:12.960711 ARP, Request who-has 10.0.0.4 tell 10.0.0.1, length 28\r\n",
      "..........>\t..\r\n",
      ".........\r\n",
      "...\r\n",
      "18:16:13.960468 ARP, Request who-has 10.0.0.4 tell 10.0.0.1, length 28\r\n",
      "..........>\t..\r\n",
      ".........\r\n",
      "...\r\n",
      "18:16:14.960511 ARP, Request who-has 10.0.0.4 tell 10.0.0.1, length 28\r\n",
      "..........>\t..\r\n",
      ".........\r\n",
      "...\r\n",
      "18:16:15.960746 ARP, Request who-has 10.0.0.4 tell 10.0.0.1, length 28\r\n",
      "..........>\t..\r\n",
      ".........\r\n",
      "...\r\n",
      "18:16:16.960524 ARP, Request who-has 10.0.0.4 tell 10.0.0.1, length 28\r\n",
      "..........>\t..\r\n",
      ".........\r\n",
      "...\r\n",
      "18:16:17.960513 ARP, Request who-has 10.0.0.4 tell 10.0.0.1, length 28\r\n",
      "..........>\t..\r\n",
      ".........\r\n",
      "...\r\n",
      "18:16:18.960739 ARP, Request who-has 10.0.0.4 tell 10.0.0.1, length 28\r\n",
      "..........>\t..\r\n",
      ".........\r\n",
      "...\r\n",
      "18:16:19.960512 ARP, Request who-has 10.0.0.4 tell 10.0.0.1, length 28\r\n",
      "..........>\t..\r\n",
      ".........\r\n",
      "...\r\n",
      "18:16:20.960473 ARP, Request who-has 10.0.0.4 tell 10.0.0.1, length 28\r\n",
      "..........>\t..\r\n",
      ".........\r\n",
      "...\r\n"
     ]
    }
   ],
   "source": [
    "tcpdump -qns 0 -A -r dhcpProblem.capture.pcap"
   ]
  },
  {
   "cell_type": "code",
   "execution_count": 6,
   "metadata": {
    "collapsed": false
   },
   "outputs": [
    {
     "name": "stdout",
     "output_type": "stream",
     "text": [
      "bash: man: command not found\r\n"
     ]
    }
   ],
   "source": [
    "man tcpdump"
   ]
  },
  {
   "cell_type": "code",
   "execution_count": 7,
   "metadata": {
    "collapsed": false
   },
   "outputs": [
    {
     "name": "stdout",
     "output_type": "stream",
     "text": [
      "tcpdump version 4.6.2\r\n",
      "libpcap version 1.6.2\r\n",
      "OpenSSL 1.0.1k 8 Jan 2015\r\n",
      "Usage: tcpdump [-aAbdDefhHIJKlLnNOpqRStuUvxX#] [ -B size ] [ -c count ]\r\n",
      "\t\t[ -C file_size ] [ -E algo:secret ] [ -F file ] [ -G seconds ]\r\n",
      "\t\t[ -i interface ] [ -j tstamptype ] [ -M secret ] [ --number ]\r\n",
      "\t\t[ -Q in|out|inout ]\r\n",
      "\t\t[ -r file ] [ -s snaplen ] [ --time-stamp-precision precision ]\r\n",
      "\t\t[ -T type ] [ --version ] [ -V file ]\r\n",
      "\t\t[ -w file ] [ -W filecount ] [ -y datalinktype ] [ -z command ]\r\n",
      "\t\t[ -Z user ] [ expression ]\r\n"
     ]
    }
   ],
   "source": [
    "tcpdump --help"
   ]
  },
  {
   "cell_type": "code",
   "execution_count": null,
   "metadata": {
    "collapsed": true
   },
   "outputs": [],
   "source": []
  }
 ],
 "metadata": {
  "kernelspec": {
   "display_name": "Bash",
   "language": "bash",
   "name": "bash"
  },
  "language_info": {
   "codemirror_mode": "shell",
   "file_extension": ".sh",
   "mimetype": "text/x-sh",
   "name": "bash"
  }
 },
 "nbformat": 4,
 "nbformat_minor": 0
}

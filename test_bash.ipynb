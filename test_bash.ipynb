{
 "cells": [
  {
   "cell_type": "markdown",
   "metadata": {},
   "source": [
    "# Attempt at using bash on Binder\n",
    "\n",
    "within a [Jupyter](http://jupyter.org) notebook\n"
   ]
  },
  {
   "cell_type": "code",
   "execution_count": 5,
   "metadata": {
    "collapsed": false
   },
   "outputs": [],
   "source": [
    "%alias docker docker"
   ]
  },
  {
   "cell_type": "code",
   "execution_count": null,
   "metadata": {
    "collapsed": true
   },
   "outputs": [],
   "source": [
    "docker ps"
   ]
  },
  {
   "cell_type": "code",
   "execution_count": 3,
   "metadata": {
    "collapsed": false
   },
   "outputs": [
    {
     "name": "stdout",
     "output_type": "stream",
     "text": [
      "total 124\r\n",
      "drwxr-xr-x  5 main main  4096 Jan 22 16:18 .\r\n",
      "drwxr-xr-x 17 main main  4096 Jan 22 15:53 ..\r\n",
      "drwxrwxr-x 14 main main  4096 Jan 22 15:45 .git\r\n",
      "drwxr-xr-x  2 main main  4096 Jan 22 16:16 .ipynb_checkpoints\r\n",
      "-rw-rw-r--  1 main main   378 Jan 22 15:45 Dockerfile\r\n",
      "-rw-rw-r--  1 main main   115 Jan 22 15:45 README.md\r\n",
      "-rw-r--r--  1 main main   458 Jan 22 16:18 Untitled.ipynb\r\n",
      "-rw-rw-r--  1 main main    12 Jan 22 15:45 requirements.txt\r\n",
      "-rw-rw-r--  1 main main 91359 Jan 22 16:15 test_bash.ipynb\r\n",
      "Fri Jan 22 16:21:27 UTC 2016\r\n"
     ]
    }
   ],
   "source": [
    "!ls -al; date"
   ]
  },
  {
   "cell_type": "code",
   "execution_count": 3,
   "metadata": {
    "collapsed": false
   },
   "outputs": [
    {
     "name": "stdout",
     "output_type": "stream",
     "text": [
      "Requirement already satisfied (use --upgrade to upgrade): bash-kernel in /home/main/anaconda/lib/python2.7/site-packages\n",
      "Requirement already satisfied (use --upgrade to upgrade): pexpect>=3.3 in /home/main/anaconda/lib/python2.7/site-packages (from bash-kernel)\n",
      "Requirement already satisfied (use --upgrade to upgrade): ptyprocess>=0.5 in /home/main/anaconda/lib/python2.7/site-packages (from pexpect>=3.3->bash-kernel)\n",
      "\u001b[33mYou are using pip version 7.1.2, however version 8.0.2 is available.\n",
      "You should consider upgrading via the 'pip install --upgrade pip' command.\u001b[0m\n"
     ]
    }
   ],
   "source": [
    "!pip install --no-cache-dir bash_kernel"
   ]
  },
  {
   "cell_type": "code",
   "execution_count": 4,
   "metadata": {
    "collapsed": false
   },
   "outputs": [
    {
     "name": "stdout",
     "output_type": "stream",
     "text": [
      "Traceback (most recent call last):\r\n",
      "  File \"/home/main/anaconda/lib/python2.7/runpy.py\", line 162, in _run_module_as_main\r\n",
      "    \"__main__\", fname, loader, pkg_name)\r\n",
      "  File \"/home/main/anaconda/lib/python2.7/runpy.py\", line 72, in _run_code\r\n",
      "    exec code in run_globals\r\n",
      "  File \"/home/main/anaconda/lib/python2.7/site-packages/bash_kernel/install.py\", line 5, in <module>\r\n",
      "    from jupyter_client.kernelspec import install_kernel_spec\r\n",
      "ImportError: No module named jupyter_client.kernelspec\r\n"
     ]
    }
   ],
   "source": [
    "!python -m bash_kernel.install"
   ]
  },
  {
   "cell_type": "code",
   "execution_count": null,
   "metadata": {
    "collapsed": true
   },
   "outputs": [],
   "source": [
    "!which pip"
   ]
  },
  {
   "cell_type": "code",
   "execution_count": 4,
   "metadata": {
    "collapsed": false
   },
   "outputs": [
    {
     "name": "stdout",
     "output_type": "stream",
     "text": [
      "total 124\n",
      "-rw-rw-r--  1 main main    12 Jan 22 15:45 requirements.txt\n",
      "-rw-rw-r--  1 main main   115 Jan 22 15:45 README.md\n",
      "-rw-rw-r--  1 main main   378 Jan 22 15:45 Dockerfile\n",
      "drwxrwxr-x 14 main main  4096 Jan 22 15:45 .git\n",
      "drwxr-xr-x 17 main main  4096 Jan 22 15:53 ..\n",
      "drwxr-xr-x  2 main main  4096 Jan 22 16:16 .ipynb_checkpoints\n",
      "-rw-r--r--  1 main main   458 Jan 22 16:18 Untitled.ipynb\n",
      "-rw-rw-r--  1 main main 91976 Jan 22 16:21 test_bash.ipynb\n",
      "drwxr-xr-x  5 main main  4096 Jan 22 16:21 .\n",
      "/home/main/notebooks\n",
      "Fri Jan 22 16:21:39 UTC 2016\n"
     ]
    }
   ],
   "source": [
    "%%bash\n",
    "ls -altr \n",
    "pwd -P\n",
    "date"
   ]
  },
  {
   "cell_type": "code",
   "execution_count": 19,
   "metadata": {
    "collapsed": false
   },
   "outputs": [
    {
     "name": "stdout",
     "output_type": "stream",
     "text": [
      "total 8\r\n",
      "drwxr-xr-x 4 main main 4096 Jan 22 16:06 ..\r\n",
      "drwxr-xr-x 2 main main 4096 Jan 22 16:06 .\r\n"
     ]
    }
   ],
   "source": [
    "!ls -altr /home/main/.ipython/kernels/bash/"
   ]
  },
  {
   "cell_type": "code",
   "execution_count": 22,
   "metadata": {
    "collapsed": true
   },
   "outputs": [],
   "source": [
    "!mkdir -p /home/main/.ipython/kernels/bash/\n",
    "!echo '{\"argv\": [\"/home/main/anaconda/python\", \"-m\", \"bash_kernel\", \"-f\", \"{connection_file}\"], \"codemirror_mode\": \"shell\", \"display_name\": \"Bash\", \"env\": {\"PS1\": \"$\"}, \"language\": \"bash\"}' | tee  /home/main/.ipython/kernels/bash/kernel.json"
   ]
  },
  {
   "cell_type": "code",
   "execution_count": 29,
   "metadata": {
    "collapsed": false
   },
   "outputs": [
    {
     "name": "stdout",
     "output_type": "stream",
     "text": [
      "XXX\r\n"
     ]
    }
   ],
   "source": [
    "!echo 'XXX' | tee /tmp/XXX"
   ]
  },
  {
   "cell_type": "code",
   "execution_count": 1,
   "metadata": {
    "collapsed": false
   },
   "outputs": [
    {
     "name": "stdout",
     "output_type": "stream",
     "text": [
      "{\"argv\": [\"/home/main/anaconda/python\", \"-m\", \"bash_kernel\", \"-f\", \"{connection_file}\"], \"codemirror_mode\": \"shell\", \"display_name\": \"Bash\", \"env\": {\"PS1\": \"$\"}, \"language\": \"bash\"}\r\n"
     ]
    }
   ],
   "source": [
    "!echo '{\"argv\": [\"/home/main/anaconda/python\", \"-m\", \"bash_kernel\", \"-f\", \"{connection_file}\"], \"codemirror_mode\": \"shell\", \"display_name\": \"Bash\", \"env\": {\"PS1\": \"$\"}, \"language\": \"bash\"}' | tee  /home/main/.ipython/kernels/bash/kernel.json"
   ]
  },
  {
   "cell_type": "code",
   "execution_count": null,
   "metadata": {
    "collapsed": true
   },
   "outputs": [],
   "source": [
    "!ipython  kernelspec list"
   ]
  },
  {
   "cell_type": "code",
   "execution_count": 2,
   "metadata": {
    "collapsed": false
   },
   "outputs": [
    {
     "name": "stdout",
     "output_type": "stream",
     "text": [
      "Available kernels:\r\n",
      "  python2\r\n",
      "  python3\r\n",
      "  bash\r\n"
     ]
    }
   ],
   "source": []
  }
 ],
 "metadata": {
  "kernelspec": {
   "display_name": "Bash",
   "language": "bash",
   "name": "bash"
  },
  "language_info": {
   "codemirror_mode": {
    "name": "ipython",
    "version": 2
   },
   "file_extension": ".py",
   "mimetype": "text/x-python",
   "name": "python",
   "nbconvert_exporter": "python",
   "pygments_lexer": "ipython2",
   "version": "2.7.10"
  }
 },
 "nbformat": 4,
 "nbformat_minor": 0
}
